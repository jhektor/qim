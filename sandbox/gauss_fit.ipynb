{
 "cells": [
  {
   "cell_type": "code",
   "execution_count": 1,
   "metadata": {},
   "outputs": [],
   "source": [
    "import sys, os\n",
    "sys.path.insert(0, '/home/hektor/scripts')\n",
    "#sys.path.insert(0, '/lunarc/nobackup/projects/qim')\n",
    "\n",
    "import qim.registration as registration\n",
    "import qim.tools as tools\n",
    "import tifffile\n",
    "import numpy as np\n",
    "import matplotlib.pyplot as plt\n",
    "%matplotlib widget\n",
    "\n",
    "from skimage import filters\n",
    "import scipy.optimize as opt\n"
   ]
  },
  {
   "cell_type": "markdown",
   "metadata": {},
   "source": [
    "## Fabricate some data"
   ]
  },
  {
   "cell_type": "code",
   "execution_count": 2,
   "metadata": {},
   "outputs": [
    {
     "name": "stdout",
     "output_type": "stream",
     "text": [
      "(63, 63) (63, 63)\n"
     ]
    },
    {
     "data": {
      "application/vnd.jupyter.widget-view+json": {
       "model_id": "449d563730644d668cddd7c164ce8eb5",
       "version_major": 2,
       "version_minor": 0
      },
      "text/plain": [
       "Canvas(toolbar=Toolbar(toolitems=[('Home', 'Reset original view', 'home', 'home'), ('Back', 'Back to previous …"
      ]
     },
     "metadata": {},
     "output_type": "display_data"
    },
    {
     "data": {
      "text/plain": [
       "<matplotlib.collections.QuadMesh at 0x7f6cee829d10>"
      ]
     },
     "execution_count": 2,
     "metadata": {},
     "output_type": "execute_result"
    }
   ],
   "source": [
    "xedges = np.linspace(0,64,64)\n",
    "yedges = xedges\n",
    "xcen = tools.find_bin_centers(xedges)\n",
    "ycen = tools.find_bin_centers(yedges)\n",
    "Y,X = np.meshgrid(ycen,xcen,indexing='ij') #coordinates in dual histogram\n",
    "xy = np.vstack((X.ravel(),Y.ravel())) #to comply with curve_fit syntax\n",
    "\n",
    "data = tools.gaussian2D(xy,10,12,20,10,np.pi/6,10,0)+tools.gaussian2D(xy,40,30,5,5,np.pi/8,5,0)+tools.gaussian2D(xy,20,50,20,5,np.pi/8,15,0)\n",
    "data += tools.gaussian2D(xy,45,10,2,4,np.pi/2,10,0)\n",
    "data += tools.gaussian2D(xy,15,50,2,4,np.pi/2,10,0)\n",
    "\n",
    "data=data.reshape(X.shape)\n",
    "#data /= data.sum()\n",
    "print(X.shape,data.shape)\n",
    "plt.figure()\n",
    "plt.pcolormesh(X,Y,data)"
   ]
  },
  {
   "cell_type": "code",
   "execution_count": 2,
   "metadata": {},
   "outputs": [],
   "source": [
    "qimfolder = '/lunarc/nobackup/projects/qim/QIM_2020_LU_Elin_Bio'\n",
    "datapath = os.path.join(qimfolder,'pvt21/reg-common-peaks_new')\n",
    "x_data = os.path.join(datapath,'x_registered.tiff')\n",
    "n_data = os.path.join(datapath,'n-bin1.tif')\n",
    "\n",
    "x_volume = tifffile.imread(x_data)\n",
    "n_volume = tifffile.imread(n_data)\n"
   ]
  },
  {
   "cell_type": "code",
   "execution_count": 3,
   "metadata": {},
   "outputs": [
    {
     "data": {
      "application/vnd.jupyter.widget-view+json": {
       "model_id": "78558060b2524142a16cf37005f5cbc3",
       "version_major": 2,
       "version_minor": 0
      },
      "text/plain": [
       "Canvas(toolbar=Toolbar(toolitems=[('Home', 'Reset original view', 'home', 'home'), ('Back', 'Back to previous …"
      ]
     },
     "metadata": {},
     "output_type": "display_data"
    }
   ],
   "source": [
    "nbins = 128\n",
    "data,xedges,yedges = registration.make_dual_histogram(x_volume,n_volume,nbins)\n",
    "\n",
    "registration.plot_dual_histogram(data,xedges,yedges,xlabel='X-ray intensity',ylabel='Neutron intensity',vmax=2500)"
   ]
  },
  {
   "cell_type": "code",
   "execution_count": 8,
   "metadata": {},
   "outputs": [
    {
     "name": "stderr",
     "output_type": "stream",
     "text": [
      "/sw/easybuild/software/IPython/7.9.0-foss-2019b-Python-3.7.4/lib/python3.7/site-packages/ipykernel_launcher.py:1: RuntimeWarning: divide by zero encountered in log\n",
      "  \"\"\"Entry point for launching an IPython kernel.\n"
     ]
    },
    {
     "data": {
      "application/vnd.jupyter.widget-view+json": {
       "model_id": "d4aa609709554e52a1af4aa4efea7ca3",
       "version_major": 2,
       "version_minor": 0
      },
      "text/plain": [
       "Canvas(toolbar=Toolbar(toolitems=[('Home', 'Reset original view', 'home', 'home'), ('Back', 'Back to previous …"
      ]
     },
     "metadata": {},
     "output_type": "display_data"
    }
   ],
   "source": [
    "registration.plot_dual_histogram(np.log(data),xedges,yedges,xlabel='X-ray intensity',ylabel='Neutron intensity')"
   ]
  },
  {
   "cell_type": "code",
   "execution_count": 23,
   "metadata": {
    "jupyter": {
     "source_hidden": true
    }
   },
   "outputs": [],
   "source": [
    "#should go in dualHistogramSegmentation.py\n",
    "def fit_gaussians(H,ml,xedges,yedges,fitdist=20,mindist=10):\n",
    "    \"\"\" \n",
    "    Fit 2D gaussians to the dual histogram.\n",
    "    Input:\n",
    "        H: dual histogram\n",
    "        ml: marker locations\n",
    "        xedges: centers of bins on x-axis\n",
    "        yedges: centers of bins on y-axis\n",
    "    Keyword arguments:\n",
    "        fitdist: Radius of circle to fit data within, default = 20\n",
    "        mindist: Smallest allowed distance between two Gaussians, default = 10\n",
    "    Output:\n",
    "        opts: list of fitted parameters [xc,yc,sigma_x,sigma_y,theta,amplitude,offset]\n",
    "    \"\"\"\n",
    "    xcen = tools.find_bin_centers(xedges)\n",
    "    ycen = tools.find_bin_centers(yedges)\n",
    "\n",
    "    Y,X = np.meshgrid(ycen,xcen,indexing='ij') #coordinates in dual histogram\n",
    "    xy = np.vstack((X.ravel(),Y.ravel())) #to comply with curve_fit syntax\n",
    "    opts = []\n",
    "    \n",
    "    #Sort the markers to always fit the highest first\n",
    "    hv = [H[m[1],m[0]] for m in ml]\n",
    "    idx = np.argsort(hv)\n",
    "    ml = [ml[i] for i in idx]\n",
    "    \n",
    "    for m in reversed(ml):\n",
    "        x0,y0 =xcen[m[0]],ycen[m[1]] \n",
    "        print('Trying to fit peak at ({:.1f}, {:.1f})'.format(x0,y0))\n",
    "        Hc=H.copy()\n",
    "        #subtract already fitted\n",
    "        if len(opts)>0:\n",
    "            for op in opts:\n",
    "                g = tools.gaussian2D(xy,*op)\n",
    "                Hc -= g.reshape(Hc.shape)\n",
    "        for i in range(Hc.shape[0]):\n",
    "            for j in range(Hc.shape[1]):\n",
    "                d = np.sqrt((i-m[1])**2+(j-m[0])**2)\n",
    "                if d > fitdist:\n",
    "                    Hc[i,j] = 0\n",
    "        #check if marker is on an edge\n",
    "        if (m[0]==0) or (m[0]==H.shape[0]-1) or (m[1]==0) or (m[1]==H.shape[0]-1):\n",
    "            print('Marker is on an edge')\n",
    "            Hc = np.zeros(H.shape)\n",
    "            if (m[0]==0) or (m[0]==H.shape[0]-1): #left/right edges\n",
    "                Hc[:,m[0]] = H[:,m[0]]\n",
    "            elif (m[1]==0) or (m[1]==H.shape[0]-1): #bottom/top edges\n",
    "                Hc[m[1],:] = H[m[1],:]\n",
    "                \n",
    "        # Find the amplitude and position of highest value\n",
    "        idx = np.argmax(Hc)\n",
    "        y0i,x0i = np.unravel_index(idx,Hc.shape)\n",
    "        x0 = X[y0i,x0i]\n",
    "        y0 = Y[y0i,x0i]\n",
    "        H0=Hc[y0i,x0i]\n",
    "        of = 0 #offset\n",
    "        inits = [100,100,0]\n",
    "       \n",
    "        try:\n",
    "            pt,pcov = opt.curve_fit(lambda xy,sx,sy,th: tools.gaussian2D(xy,x0,y0,sx,sy,th,H0,of),xy,Hc.ravel(),p0=inits)\n",
    "            popt=[x0,y0,pt[0],pt[1],pt[2],H0,of]\n",
    "            print('Fitted parameters [{:.3f} {:.3f} {:.3f} {:.1f} {:.1f} {:1f} {:.1f}]'.format(*popt))\n",
    "            # sanity check\n",
    "            tr = np.trace(pcov)\n",
    "            det = np.linalg.det(pcov)\n",
    "            if (tr<=0) and (det<=0):\n",
    "                print('This is not fitted to a maximum, determinant: {:.3f}, trace: {:.3f}. Skipping.'.format(tr,det))\n",
    "                continue\n",
    "            #Check if it is close to something already fitted\n",
    "            if len(opts)>0:\n",
    "                dist = [np.sqrt((popt[0]-op[0])**2+(popt[1]-op[1])**2) for op in opts]\n",
    "                if np.min(dist)>mindist:\n",
    "                    opts.append(popt)\n",
    "                    print('Fitted {:d} peaks'.format(len(opts)))\n",
    "                else:\n",
    "                    print('This Gaussian is too close to something already fitted, d={:.3f}. Skipping.'.format(np.min(dist)))\n",
    "            else:\n",
    "                opts.append(popt)\n",
    "                print('Fitted {:d} peaks'.format(len(opts)))\n",
    "        except RuntimeError:\n",
    "            print('Failed to fit this peak. Moving to the next.')\n",
    "            continue\n",
    "    return opts\n",
    "    \n",
    "def get_pdfs(xedges,yedges,opts):\n",
    "    \"\"\"\n",
    "    Compute the probability densities of the fitted Gaussians\n",
    "    \"\"\"\n",
    "    xcen = tools.find_bin_centers(xedges)\n",
    "    ycen = tools.find_bin_centers(yedges)\n",
    "    #bin size\n",
    "    dx = np.diff(xcen)[0] \n",
    "    dy = np.diff(xcen)[1] \n",
    "    \n",
    "    Y,X = np.meshgrid(ycen,xcen,indexing='ij') #coordinates in dual histogram\n",
    "    xy = np.vstack((X.ravel(),Y.ravel())) #to comply with curve_fit syntax\n",
    "    pdfs = np.zeros((len(opts),*X.shape))\n",
    "    for i,op in enumerate(opts):\n",
    "        sx,sy,th = op[2],op[3],op[4]\n",
    "        a = np.cos(th)*np.cos(th)/(2*sx**2)+np.sin(th)*np.sin(th)/(2*sy**2)\n",
    "        b = -np.sin(2*th)/(4*sx**2)+np.sin(2*th)/(4*sy**2)\n",
    "        c = np.sin(th)*np.sin(th)/(2*sx**2)+np.cos(th)*np.cos(th)/(2*sy**2)\n",
    "        Si = np.array([[a,b],[b,c]]) #Inverse covariance matrix\n",
    "        S = np.linalg.inv(Si)\n",
    "        detS = np.linalg.det(S)\n",
    "        mu = np.array([op[0],op[1]])\n",
    "        pdf = np.zeros(xy.shape[1])\n",
    "        for k,phi in enumerate(xy.T):\n",
    "            pdf[k] = 1./(2*np.pi*np.sqrt(detS))*np.exp(-0.5*(np.dot(phi-mu,np.dot(Si,phi-mu))))*dx*dy\n",
    "        pdfs[i]=pdf.reshape(X.shape)\n",
    "    return pdfs\n"
   ]
  },
  {
   "cell_type": "code",
   "execution_count": 3,
   "metadata": {},
   "outputs": [],
   "source": [
    "def fit_gaussians(H,ml,xedges,yedges,fitdist=20,mindist=10):\n",
    "    \"\"\" \n",
    "    Fit 2D gaussians to the dual histogram.\n",
    "    Input:\n",
    "        H: dual histogram\n",
    "        ml: marker locations\n",
    "        xedges: centers of bins on x-axis\n",
    "        yedges: centers of bins on y-axis\n",
    "    Keyword arguments:\n",
    "        fitdist: Radius of circle to fit data within. Scalar or list. default = 20\n",
    "        mindist: Smallest allowed distance between two Gaussians, default = 10\n",
    "    Output:\n",
    "        opts: list of fitted parameters [xc,yc,sigma_x,sigma_y,theta,amplitude,offset]\n",
    "    \"\"\"\n",
    "    xcen = tools.find_bin_centers(xedges)\n",
    "    ycen = tools.find_bin_centers(yedges)\n",
    "\n",
    "    Y,X = np.meshgrid(ycen,xcen,indexing='ij') #coordinates in dual histogram\n",
    "    xy = np.vstack((X.ravel(),Y.ravel())) #to comply with curve_fit syntax\n",
    "    opts = []\n",
    "    \n",
    "    #Sort the markers to always fit the highest first\n",
    "    hv = [H[m[1],m[0]] for m in ml]\n",
    "    idx = np.argsort(hv)\n",
    "    ml = [ml[i] for i in idx]\n",
    "    try:\n",
    "        fitdist = [fitdist[i] for i in idx]\n",
    "        fitdist.reverse()\n",
    "    except: #fitdist wasn't a list\n",
    "        pass \n",
    "    for i,m in enumerate(reversed(ml)):\n",
    "        x0,y0 =xcen[m[0]],ycen[m[1]] \n",
    "        print('Trying to fit peak at ({:.1f}, {:.1f})'.format(x0,y0))\n",
    "        try:\n",
    "            fd = fitdist[i]\n",
    "        except: #fitdist wasn't a list\n",
    "            fd = fitdist\n",
    "        print('Removing everything outside of {:.3f} pixels'.format(fd))\n",
    "        Hc=H.copy()\n",
    "        #subtract already fitted\n",
    "        if len(opts)>0:\n",
    "            for op in opts:\n",
    "                g = tools.gaussian2D(xy,*op)\n",
    "                Hc -= g.reshape(Hc.shape)\n",
    "        for i in range(Hc.shape[0]):\n",
    "            for j in range(Hc.shape[1]):\n",
    "                d = np.sqrt((i-m[1])**2+(j-m[0])**2)\n",
    "                if d > fd:\n",
    "                    Hc[i,j] = 0\n",
    "        #check if marker is on an edge\n",
    "        if (m[0]==0) or (m[0]==H.shape[0]-1) or (m[1]==0) or (m[1]==H.shape[0]-1):\n",
    "            print('Marker is on an edge')\n",
    "            Hc = np.zeros(H.shape)\n",
    "            if (m[0]==0) or (m[0]==H.shape[0]-1): #left/right edges\n",
    "                Hc[:,m[0]] = H[:,m[0]]\n",
    "            elif (m[1]==0) or (m[1]==H.shape[0]-1): #bottom/top edges\n",
    "                Hc[m[1],:] = H[m[1],:]\n",
    "                \n",
    "        # Find the amplitude and position of highest value\n",
    "        idx = np.argmax(Hc)\n",
    "        y0i,x0i = np.unravel_index(idx,Hc.shape)\n",
    "        x0 = X[y0i,x0i]\n",
    "        y0 = Y[y0i,x0i]\n",
    "        H0=Hc[y0i,x0i]\n",
    "        of = 0 #offset\n",
    "        inits = [100,100,0]\n",
    "       \n",
    "        try:\n",
    "            pt,pcov = opt.curve_fit(lambda xy,sx,sy,th: tools.gaussian2D(xy,x0,y0,sx,sy,th,H0,of),xy,Hc.ravel(),p0=inits)\n",
    "            popt=[x0,y0,pt[0],pt[1],pt[2],H0,of]\n",
    "            print('Fitted parameters [{:.3f} {:.3f} {:.3f} {:.1f} {:.1f} {:1f} {:.1f}]'.format(*popt))\n",
    "            #Check if it is close to something already fitted\n",
    "            if len(opts)>0:\n",
    "                dist = [np.sqrt((popt[0]-op[0])**2+(popt[1]-op[1])**2) for op in opts]\n",
    "                if np.min(dist)>mindist:\n",
    "                    opts.append(popt)\n",
    "                    print('Fitted {:d} peaks'.format(len(opts)))\n",
    "                else:\n",
    "                    print('This Gaussian is too close to something already fitted, d={:.3f}. Skipping.'.format(np.min(dist)))\n",
    "            else:\n",
    "                opts.append(popt)\n",
    "                print('Fitted {:d} peaks'.format(len(opts)))\n",
    "        except RuntimeError:\n",
    "            print('Failed to fit this peak. Moving to the next.')\n",
    "            continue\n",
    "    return opts\n"
   ]
  },
  {
   "cell_type": "code",
   "execution_count": 4,
   "metadata": {},
   "outputs": [
    {
     "name": "stdout",
     "output_type": "stream",
     "text": [
      "[[41, 90], [94, 55], [127, 32]]\n",
      "Trying to fit peak at (65279.0, 16639.7)\n",
      "Removing everything outside of 40.000 pixels\n",
      "Marker is on an edge\n",
      "Fitted parameters [65279.004 15103.770 109.559 1503.9 0.0 311183.000000 0.0]\n",
      "Fitted 1 peaks\n",
      "Trying to fit peak at (48383.3, 28415.6)\n",
      "Removing everything outside of 40.000 pixels\n",
      "Fitted parameters [48895.254 29439.551 5489.366 2411.6 -0.1 73323.000000 0.0]\n",
      "Fitted 2 peaks\n",
      "Trying to fit peak at (21247.7, 46335.3)\n",
      "Removing everything outside of 20.000 pixels\n",
      "Fitted parameters [17663.730 46335.293 3291.184 5658.4 -0.3 6293.000000 0.0]\n",
      "Fitted 3 peaks\n"
     ]
    },
    {
     "data": {
      "application/vnd.jupyter.widget-view+json": {
       "model_id": "c902c7aa692641828d3b5b9f5dbe0c28",
       "version_major": 2,
       "version_minor": 0
      },
      "text/plain": [
       "Canvas(toolbar=Toolbar(toolitems=[('Home', 'Reset original view', 'home', 'home'), ('Back', 'Back to previous …"
      ]
     },
     "metadata": {},
     "output_type": "display_data"
    }
   ],
   "source": [
    "#ml = [[64,64],[125,200],[200,100],[125,150]]\n",
    "#ml = [[10,12],[40,30],[45,10],[15,50]]\n",
    "#ml = [[45,10],[15,50]]\n",
    "ml = [[20800, 46000],  [48000, 28000], [65085, 16200]]#x reg onto n\n",
    "markers = registration.setup_markers(data,xedges,yedges,markers=ml)\n",
    "print(markers)\n",
    "opts = registration.fit_gaussians(data,markers,xedges,yedges,fitdist=[20,40,40],mindist=20)\n",
    "registration.plot_dual_histogram(data,xedges,yedges,markers=markers,fits=opts,vmax=2500)"
   ]
  },
  {
   "cell_type": "code",
   "execution_count": 5,
   "metadata": {},
   "outputs": [
    {
     "data": {
      "application/vnd.jupyter.widget-view+json": {
       "model_id": "d7a43151cd9f436bbeaf3a753533b3e8",
       "version_major": 2,
       "version_minor": 0
      },
      "text/plain": [
       "Canvas(toolbar=Toolbar(toolitems=[('Home', 'Reset original view', 'home', 'home'), ('Back', 'Back to previous …"
      ]
     },
     "metadata": {},
     "output_type": "display_data"
    },
    {
     "name": "stdout",
     "output_type": "stream",
     "text": [
      "10.456659699366755\n",
      "624.7665574466951\n",
      "886.6338280531127\n"
     ]
    }
   ],
   "source": [
    "pdfs = registration.get_pdfs(xedges,yedges,opts)\n",
    "for p in pdfs:\n",
    "    p /=p.max()\n",
    "\n",
    "#p = np.zeros(data.shape)\n",
    "#for pd in pdfs:\n",
    "#    p += pd\n",
    "\n",
    "plt.figure()\n",
    "plt.imshow(p,origin='lower')\n",
    "plt.colorbar()\n",
    "for p in pdfs:\n",
    "    print(p.sum())"
   ]
  },
  {
   "cell_type": "code",
   "execution_count": 24,
   "metadata": {},
   "outputs": [],
   "source": [
    "def voxel_coverage(H,xedges,yedges,opts,coverage=0.99):\n",
    "    \"\"\"\n",
    "    Finds the minimum distance between the histogram and the fitted curves such that the given percentage of the histogram is labelled \n",
    "    Input:\n",
    "        H: dual histogram\n",
    "        xedges: centers of bins on x-axis\n",
    "        yedges: centers of bins on y-axis\n",
    "        opts: parameters for fitted curves\n",
    "    Keyword arguments:\n",
    "        coverage: minimum coverage of dual histogram, default=0.99\n",
    "    Output:\n",
    "        sigma: minimal distance threshold\n",
    "    \"\"\"\n",
    "    xcen = tools.find_bin_centers(xedges)\n",
    "    ycen = tools.find_bin_centers(yedges)\n",
    "    phase = np.zeros(H.shape,dtype=int)\n",
    "    vxlcov = 0\n",
    "    sigma = 1\n",
    "    while vxlcov <= coverage:\n",
    "        sigma += 10**int(np.log10(sigma))\n",
    "        phase = _phase_diagram(H,xcen,ycen,opts,sigma)\n",
    "\n",
    "        vxlcov = H[phase>0].sum()/(H.sum())#-H[0,0]) #subtract the background bin\n",
    "        print(\"Finding full coverage: sigma={}, coverage={}\".format(sigma,vxlcov))\n",
    "    return sigma\n",
    "\n",
    "def _phase_diagram(H,xcen,ycen,opts,sigma):\n",
    "    phase = np.zeros(H.shape,dtype=int)\n",
    "    for ix,x in enumerate(xcen):\n",
    "        for iy,y in enumerate(ycen):\n",
    "            if H[iy,ix]>0:\n",
    "                distances = [tools.distance(x,y,o) for o in opts]\n",
    "                i = np.argmin(distances)\n",
    "                distanceMin = distances[i]\n",
    "                if distanceMin < sigma: \n",
    "                    phase[iy,ix] = i+1\n",
    "    return phase\n",
    "\n",
    "def phase_diagram(H,xedges,yedges,opts,sigma=None,coverage=0.99):\n",
    "    \"\"\"\n",
    "    Labels the dual histogram\n",
    "    Input:\n",
    "        H: dual histogram\n",
    "        xedges: edges of bins on x-axis\n",
    "        yedges: edges of bins on y-axis\n",
    "        opts: parameters for fitted curves\n",
    "    Keyword arguments:\n",
    "        coverage: minimum percentage of the histogram to label, default=0.99\n",
    "        sigma: max distance to consider, default=None which means it will be computed based on the coverage\n",
    "    Output:\n",
    "        phasediagram: labelled dual histogram\n",
    "    \"\"\"\n",
    "    xcen = tools.find_bin_centers(xedges)\n",
    "    ycen = tools.find_bin_centers(yedges)\n",
    "    if not sigma:\n",
    "        sigma = voxel_coverage(H,xcen,ycen,opts,coverage=coverage)\n",
    "    phasediagram = _phase_diagram(H,xcen,ycen,opts,sigma)\n",
    "    return phasediagram"
   ]
  },
  {
   "cell_type": "code",
   "execution_count": 42,
   "metadata": {},
   "outputs": [],
   "source": [
    "coverage = 0.2\n",
    "phasediagram = phase_diagram(data,xedges,yedges,opts,coverage=coverage,sigma=3)\n",
    "nphases=phasediagram.max()+1\n",
    "\n",
    "#filter based on pdf\n",
    "#phasediagram = np.where(p>0.001,phasediagram,0)"
   ]
  },
  {
   "cell_type": "code",
   "execution_count": 36,
   "metadata": {},
   "outputs": [],
   "source": [
    "ph = np.argmax(pdfs,axis=0)+1\n",
    "ph = np.where(np.max(pdfs,axis=0)>1-0.992,ph,0)"
   ]
  },
  {
   "cell_type": "code",
   "execution_count": 43,
   "metadata": {},
   "outputs": [
    {
     "data": {
      "application/vnd.jupyter.widget-view+json": {
       "model_id": "3550393e37ef490b8b3efaa75adc414e",
       "version_major": 2,
       "version_minor": 0
      },
      "text/plain": [
       "Canvas(toolbar=Toolbar(toolitems=[('Home', 'Reset original view', 'home', 'home'), ('Back', 'Back to previous …"
      ]
     },
     "metadata": {},
     "output_type": "display_data"
    }
   ],
   "source": [
    "#plot the phasediagram\n",
    "cmap = tools.random_cmap(ncolors=nphases,startmap=plt.cm.Set3)#'Set3' #vill bara ha x färger\n",
    "Y,X = np.meshgrid(yedges,xedges,indexing='ij') #coordinates in dual histogram\n",
    "fig,axes=plt.subplots(1,3,sharex=True,sharey=True)\n",
    "ax = axes.ravel()\n",
    "#m=plt.pcolormesh(X,Y,phasediagram,cmap=cmap)\n",
    "m=ax[0].pcolormesh(X,Y,phasediagram,cmap=cmap)\n",
    "ax[0].set_xlabel('X-ray intensity')\n",
    "ax[0].set_ylabel('Neutron intensity')\n",
    "ax[0].set_title('Mahlanobis distance')\n",
    "ax[1].pcolormesh(X,Y,ph,cmap=cmap)\n",
    "ax[1].set_xlabel('X-ray intensity')\n",
    "ax[1].set_ylabel('Neutron intensity')\n",
    "ax[1].set_title('Probability')\n",
    "ax[2].pcolormesh(X,Y,ph-phasediagram,cmap=cmap)\n",
    "ax[2].set_xlabel('X-ray intensity')\n",
    "ax[2].set_ylabel('Neutron intensity')\n",
    "ax[2].set_title('Difference')\n",
    "#cb=fig.colorbar(m,ticks=np.arange(nphases))\n",
    "m.set_clim(-0.5, nphases - 0.5)\n"
   ]
  },
  {
   "cell_type": "code",
   "execution_count": 144,
   "metadata": {},
   "outputs": [
    {
     "data": {
      "text/plain": [
       "6"
      ]
     },
     "execution_count": 144,
     "metadata": {},
     "output_type": "execute_result"
    }
   ],
   "source": [
    "nphases"
   ]
  },
  {
   "cell_type": "code",
   "execution_count": null,
   "metadata": {},
   "outputs": [],
   "source": []
  }
 ],
 "metadata": {
  "kernelspec": {
   "display_name": "Python 3",
   "language": "python",
   "name": "python3"
  },
  "language_info": {
   "codemirror_mode": {
    "name": "ipython",
    "version": 3
   },
   "file_extension": ".py",
   "mimetype": "text/x-python",
   "name": "python",
   "nbconvert_exporter": "python",
   "pygments_lexer": "ipython3",
   "version": "3.7.4"
  }
 },
 "nbformat": 4,
 "nbformat_minor": 4
}
