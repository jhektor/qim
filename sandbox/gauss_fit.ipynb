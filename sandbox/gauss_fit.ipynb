{
 "cells": [
  {
   "cell_type": "code",
   "execution_count": 106,
   "metadata": {},
   "outputs": [],
   "source": [
    "import sys, os\n",
    "sys.path.insert(0, '/home/hektor/scripts')\n",
    "#sys.path.insert(0, '/lunarc/nobackup/projects/qim')\n",
    "\n",
    "import qim.registration as registration\n",
    "import qim.tools as tools\n",
    "import tifffile\n",
    "import numpy as np\n",
    "import matplotlib.pyplot as plt\n",
    "%matplotlib widget\n",
    "\n",
    "from skimage import filters\n",
    "import scipy.optimize as opt\n"
   ]
  },
  {
   "cell_type": "markdown",
   "metadata": {},
   "source": [
    "## Fabricate some data"
   ]
  },
  {
   "cell_type": "code",
   "execution_count": 117,
   "metadata": {},
   "outputs": [
    {
     "name": "stdout",
     "output_type": "stream",
     "text": [
      "(255, 255) (255, 255)\n"
     ]
    },
    {
     "data": {
      "application/vnd.jupyter.widget-view+json": {
       "model_id": "62bf5be480024af9b64e82963ee01602",
       "version_major": 2,
       "version_minor": 0
      },
      "text/plain": [
       "Canvas(toolbar=Toolbar(toolitems=[('Home', 'Reset original view', 'home', 'home'), ('Back', 'Back to previous …"
      ]
     },
     "metadata": {},
     "output_type": "display_data"
    },
    {
     "data": {
      "text/plain": [
       "<matplotlib.collections.QuadMesh at 0x7fd9b8d46210>"
      ]
     },
     "execution_count": 117,
     "metadata": {},
     "output_type": "execute_result"
    }
   ],
   "source": [
    "xedges = np.linspace(0,256,256)\n",
    "yedges = xedges\n",
    "xcen = tools.find_bin_centers(xedges)\n",
    "ycen = tools.find_bin_centers(yedges)\n",
    "Y,X = np.meshgrid(ycen,xcen,indexing='ij') #coordinates in dual histogram\n",
    "xy = np.vstack((X.ravel(),Y.ravel())) #to comply with curve_fit syntax\n",
    "\n",
    "data = tools.gaussian2D(xy,64,64,20,10,np.pi/4,10,0)+tools.gaussian2D(xy,125,200,10,20,np.pi/8,15,0)+tools.gaussian2D(xy,200,100,30,10,np.pi,15,0)\n",
    "data += tools.gaussian2D(xy,125,150,20,40,np.pi/2,40,0)\n",
    "data=data.reshape(X.shape)\n",
    "print(X.shape,data.shape)\n",
    "plt.figure()\n",
    "plt.pcolormesh(X,Y,data)"
   ]
  },
  {
   "cell_type": "code",
   "execution_count": 120,
   "metadata": {},
   "outputs": [],
   "source": [
    "qimfolder = '/lunarc/nobackup/projects/qim/QIM_2020_LU_Elin_Bio'\n",
    "datapath = os.path.join(qimfolder,'pvt21/reg-common-peaks_new')\n",
    "x_data = os.path.join(datapath,'x_registered.tiff')\n",
    "n_data = os.path.join(datapath,'n-bin1.tif')\n",
    "\n",
    "x_volume = tifffile.imread(x_data)\n",
    "n_volume = tifffile.imread(n_data)\n"
   ]
  },
  {
   "cell_type": "code",
   "execution_count": 121,
   "metadata": {},
   "outputs": [
    {
     "ename": "NameError",
     "evalue": "name 'H' is not defined",
     "output_type": "error",
     "traceback": [
      "\u001b[0;31m---------------------------------------------------------------------------\u001b[0m",
      "\u001b[0;31mNameError\u001b[0m                                 Traceback (most recent call last)",
      "\u001b[0;32m<ipython-input-121-17b9a161bc80>\u001b[0m in \u001b[0;36m<module>\u001b[0;34m()\u001b[0m\n\u001b[1;32m      2\u001b[0m \u001b[0mdata\u001b[0m\u001b[0;34m,\u001b[0m\u001b[0mxedges\u001b[0m\u001b[0;34m,\u001b[0m\u001b[0myedges\u001b[0m \u001b[0;34m=\u001b[0m \u001b[0mregistration\u001b[0m\u001b[0;34m.\u001b[0m\u001b[0mmake_dual_histogram\u001b[0m\u001b[0;34m(\u001b[0m\u001b[0mx_volume\u001b[0m\u001b[0;34m,\u001b[0m\u001b[0mn_volume\u001b[0m\u001b[0;34m,\u001b[0m\u001b[0mnbins\u001b[0m\u001b[0;34m)\u001b[0m\u001b[0;34m\u001b[0m\u001b[0;34m\u001b[0m\u001b[0m\n\u001b[1;32m      3\u001b[0m \u001b[0;34m\u001b[0m\u001b[0m\n\u001b[0;32m----> 4\u001b[0;31m \u001b[0mregistration\u001b[0m\u001b[0;34m.\u001b[0m\u001b[0mplot_dual_histogram\u001b[0m\u001b[0;34m(\u001b[0m\u001b[0mH\u001b[0m\u001b[0;34m,\u001b[0m\u001b[0mxedges\u001b[0m\u001b[0;34m,\u001b[0m\u001b[0myedges\u001b[0m\u001b[0;34m,\u001b[0m\u001b[0mxlabel\u001b[0m\u001b[0;34m=\u001b[0m\u001b[0;34m'X-ray intensity'\u001b[0m\u001b[0;34m,\u001b[0m\u001b[0mylabel\u001b[0m\u001b[0;34m=\u001b[0m\u001b[0;34m'Neutron intensity'\u001b[0m\u001b[0;34m,\u001b[0m\u001b[0mvmax\u001b[0m\u001b[0;34m=\u001b[0m\u001b[0;36m2500\u001b[0m\u001b[0;34m)\u001b[0m\u001b[0;34m\u001b[0m\u001b[0;34m\u001b[0m\u001b[0m\n\u001b[0m",
      "\u001b[0;31mNameError\u001b[0m: name 'H' is not defined"
     ]
    }
   ],
   "source": [
    "nbins = 256\n",
    "data,xedges,yedges = registration.make_dual_histogram(x_volume,n_volume,nbins)\n",
    "\n",
    "registration.plot_dual_histogram(data,xedges,yedges,xlabel='X-ray intensity',ylabel='Neutron intensity',vmax=2500)"
   ]
  },
  {
   "cell_type": "code",
   "execution_count": 123,
   "metadata": {},
   "outputs": [
    {
     "data": {
      "application/vnd.jupyter.widget-view+json": {
       "model_id": "6b9520b4270f4f16a376d27ee0061cc8",
       "version_major": 2,
       "version_minor": 0
      },
      "text/plain": [
       "Canvas(toolbar=Toolbar(toolitems=[('Home', 'Reset original view', 'home', 'home'), ('Back', 'Back to previous …"
      ]
     },
     "metadata": {},
     "output_type": "display_data"
    }
   ],
   "source": [
    "registration.plot_dual_histogram(data,xedges,yedges,xlabel='X-ray intensity',ylabel='Neutron intensity',vmax=2500)"
   ]
  },
  {
   "cell_type": "code",
   "execution_count": 131,
   "metadata": {},
   "outputs": [],
   "source": [
    "#should go in dualHistogramSegmentation.py\n",
    "def fit_gaussians_test(H,ml,xedges,yedges,fitdist=20,mindist=10):\n",
    "    \"\"\" \n",
    "    Fit 2D gaussians to the dual histogram.\n",
    "    Input:\n",
    "        H: dual histogram\n",
    "        ml: marker locations\n",
    "        xedges: centers of bins on x-axis\n",
    "        yedges: centers of bins on y-axis\n",
    "    Keyword arguments:\n",
    "        fitdist: Radius of circle to fit data within, default = 20\n",
    "        mindist: Smallest allowed distance between two Gaussians, default = 10\n",
    "    Output:\n",
    "        opts: list of fitted parameters [xc,yc,sigma_x,sigma_y,theta,amplitude,offset]\n",
    "    \"\"\"\n",
    "    xcen = tools.find_bin_centers(xedges)\n",
    "    ycen = tools.find_bin_centers(yedges)\n",
    "\n",
    "    Y,X = np.meshgrid(ycen,xcen,indexing='ij') #coordinates in dual histogram\n",
    "    xy = np.vstack((X.ravel(),Y.ravel())) #to comply with curve_fit syntax\n",
    "    opts = []\n",
    "    #Sort the markers to always fit the highest first\n",
    "    hv = [H[m[1],m[0]] for m in ml]\n",
    "    idx = np.argsort(hv)\n",
    "    ml = [ml[i] for i in idx]\n",
    "    \n",
    "    for m in reversed(ml):\n",
    "        x0,y0 =xcen[m[0]],ycen[m[1]] \n",
    "        print('Trying to fit peak at ({:.1f}, {:.1f})'.format(x0,y0))\n",
    "        Hc=H.copy()\n",
    "        #subtract already fitted\n",
    "        if len(opts)>0:\n",
    "            for op in opts:\n",
    "                g = tools.gaussian2D(xy,*op)\n",
    "                Hc -= g.reshape(Hc.shape)\n",
    "        for i in range(Hc.shape[0]):\n",
    "            for j in range(Hc.shape[1]):\n",
    "                d = np.sqrt((i-m[1])**2+(j-m[0])**2)\n",
    "                if d > fitdist:\n",
    "                    Hc[i,j] = 0\n",
    "        #check if marker is on an edge\n",
    "        if (m[0]==0) or (m[0]==H.shape[0]-1) or (m[1]==0) or (m[1]==H.shape[0]-1):\n",
    "            print('Marker is on an edge')\n",
    "            Hc = np.zeros(H.shape)\n",
    "            if (m[0]==0) or (m[0]==H.shape[0]-1): #left/right edges\n",
    "                Hc[:,m[0]] = H[:,m[0]]\n",
    "            elif (m[1]==0) or (m[1]==H.shape[0]-1): #bottom/top edges\n",
    "                Hc[m[1],:] = H[m[1],:]\n",
    "                \n",
    "        # Find the amplitude and position of highest value\n",
    "        idx = np.argmax(Hc)\n",
    "        y0i,x0i = np.unravel_index(idx,Hc.shape)\n",
    "        x0 = X[y0i,x0i]\n",
    "        y0 = Y[y0i,x0i]\n",
    "        H0=Hc[y0i,x0i]\n",
    "        of = 0 #offset\n",
    "        inits = [100,100,0]\n",
    "        \n",
    "        #init = [x0,y0,100,100,0,H[m[1],m[0]],0]\n",
    "        #print('Initial guess: [{:.3f} {:.3f} {:.1f} {:.1f} {:.1f} {:1f} {:.1f}]'.format(*init))\n",
    "        try:\n",
    "            #popt,pcov = opt.curve_fit(tools.gaussian2D,xy,Hc.ravel(),p0=init)\n",
    "            pt,pcov = opt.curve_fit(lambda xy,sx,sy,th: tools.gaussian2D(xy,x0,y0,sx,sy,th,H0,of),xy,Hc.ravel(),p0=inits)\n",
    "            popt=[x0,y0,pt[0],pt[1],pt[2],H0,of]\n",
    "            print('Fitted parameters [{:.3f} {:.3f} {:.3f} {:.1f} {:.1f} {:1f} {:.1f}]'.format(*popt))\n",
    "            # sanity check\n",
    "            tr = np.trace(pcov)\n",
    "            det = np.linalg.det(pcov)\n",
    "            if (tr<=0) and (det<=0):\n",
    "                print('This is not fitted to a maximum, determinant: {:.3f}, trace: {:.3f}. Skipping.'.format(tr,det))\n",
    "                continue\n",
    "            #Check if it is close to something already fitted\n",
    "            if len(opts)>0:\n",
    "                dist = [np.sqrt((popt[0]-op[0])**2+(popt[1]-op[1])**2) for op in opts]\n",
    "                if np.min(dist)>mindist:\n",
    "                    opts.append(popt)\n",
    "                    print('Fitted {:d} peaks'.format(len(opts)))\n",
    "                else:\n",
    "                    print('This Gaussian is too close to something already fitted, d={:.3f}. Skipping.'.format(np.min(dist)))\n",
    "            else:\n",
    "                opts.append(popt)\n",
    "                print('Fitted {:d} peaks'.format(len(opts)))\n",
    "        except RuntimeError:\n",
    "            print('Failed to fit this peak. Moving to the next.')\n",
    "            continue\n",
    "    return opts"
   ]
  },
  {
   "cell_type": "code",
   "execution_count": 154,
   "metadata": {},
   "outputs": [
    {
     "name": "stdout",
     "output_type": "stream",
     "text": [
      "[[28, 12], [81, 180], [101, 62], [188, 109], [254, 63]]\n",
      "Trying to fit peak at (7295.9, 3200.0)\n",
      "Fitted parameters [6783.896 3199.951 614.914 896.3 0.0 3799171.000000 0.0]\n",
      "Fitted 1 peaks\n",
      "Trying to fit peak at (48255.3, 28031.6)\n",
      "Fitted parameters [48767.256 29311.553 2170.987 3245.9 -4.7 18636.000000 0.0]\n",
      "Fitted 2 peaks\n",
      "Trying to fit peak at (25983.6, 15999.8)\n",
      "Fitted parameters [23935.635 19583.701 2597.687 2230.6 116.3 5789.000000 0.0]\n",
      "Fitted 3 peaks\n",
      "Trying to fit peak at (20863.7, 46207.3)\n",
      "Fitted parameters [17791.729 46207.295 2492.996 3154.3 -7.2 1687.000000 0.0]\n",
      "Fitted 4 peaks\n",
      "Trying to fit peak at (65151.0, 16255.8)\n",
      "Fitted parameters [65407.002 15231.768 72.845 1525.7 0.0 155685.000000 0.0]\n",
      "Fitted 5 peaks\n"
     ]
    },
    {
     "name": "stderr",
     "output_type": "stream",
     "text": [
      "/home/hektor/scripts/qim/registration/dualHistogramSegmentation.py:25: RuntimeWarning: More than 20 figures have been opened. Figures created through the pyplot interface (`matplotlib.pyplot.figure`) are retained until explicitly closed and may consume too much memory. (To control this warning, see the rcParam `figure.max_open_warning`).\n",
      "  plt.figure()\n"
     ]
    },
    {
     "data": {
      "application/vnd.jupyter.widget-view+json": {
       "model_id": "35bcd455a68742609102c26a7d236b43",
       "version_major": 2,
       "version_minor": 0
      },
      "text/plain": [
       "Canvas(toolbar=Toolbar(toolitems=[('Home', 'Reset original view', 'home', 'home'), ('Back', 'Back to previous …"
      ]
     },
     "metadata": {},
     "output_type": "display_data"
    }
   ],
   "source": [
    "ml = [[64,64],[125,200],[200,100],[125,150]]\n",
    "ml = [[7175, 3139], [20800, 46000], [25800, 15900], [48000, 28000], [65085, 16200]]#x reg onto n\n",
    "markers = registration.setup_markers(data,xedges,yedges,markers=ml)\n",
    "print(markers)\n",
    "opts = fit_gaussians_test(data,markers,xedges,yedges,fitdist=20,mindist=10)\n",
    "registration.plot_dual_histogram(data,xedges,yedges,markers=markers,fits=opts,vmax=3000)"
   ]
  },
  {
   "cell_type": "code",
   "execution_count": 155,
   "metadata": {},
   "outputs": [],
   "source": [
    "coverage = 0.9\n",
    "phasediagram = registration.phase_diagram(data,xedges,yedges,opts,coverage=coverage,sigma=4)\n",
    "nphases=phasediagram.max()+1"
   ]
  },
  {
   "cell_type": "code",
   "execution_count": 156,
   "metadata": {},
   "outputs": [
    {
     "name": "stderr",
     "output_type": "stream",
     "text": [
      "/sw/easybuild/software/IPython/7.9.0-foss-2019b-Python-3.7.4/lib/python3.7/site-packages/ipykernel_launcher.py:4: RuntimeWarning: More than 20 figures have been opened. Figures created through the pyplot interface (`matplotlib.pyplot.figure`) are retained until explicitly closed and may consume too much memory. (To control this warning, see the rcParam `figure.max_open_warning`).\n",
      "  after removing the cwd from sys.path.\n"
     ]
    },
    {
     "data": {
      "application/vnd.jupyter.widget-view+json": {
       "model_id": "95de40f0a4b04e39a605bcdf1f386d29",
       "version_major": 2,
       "version_minor": 0
      },
      "text/plain": [
       "Canvas(toolbar=Toolbar(toolitems=[('Home', 'Reset original view', 'home', 'home'), ('Back', 'Back to previous …"
      ]
     },
     "metadata": {},
     "output_type": "display_data"
    }
   ],
   "source": [
    "#plot the phasediagram\n",
    "cmap = tools.random_cmap(ncolors=nphases,startmap=plt.cm.Set3)#'Set3' #vill bara ha x färger\n",
    "Y,X = np.meshgrid(yedges,xedges,indexing='ij') #coordinates in dual histogram\n",
    "fig=plt.figure()\n",
    "#m=plt.pcolormesh(X,Y,phasediagram,cmap=cmap)\n",
    "m=plt.imshow(phasediagram,cmap=cmap,origin='lower')\n",
    "plt.xlabel('X-ray intensity')\n",
    "plt.ylabel('Neutron intensity')\n",
    "cb=fig.colorbar(m,ticks=np.arange(nphases))\n",
    "m.set_clim(-0.5, nphases - 0.5)\n"
   ]
  },
  {
   "cell_type": "code",
   "execution_count": 144,
   "metadata": {},
   "outputs": [
    {
     "data": {
      "text/plain": [
       "6"
      ]
     },
     "execution_count": 144,
     "metadata": {},
     "output_type": "execute_result"
    }
   ],
   "source": [
    "nphases"
   ]
  },
  {
   "cell_type": "code",
   "execution_count": null,
   "metadata": {},
   "outputs": [],
   "source": []
  }
 ],
 "metadata": {
  "kernelspec": {
   "display_name": "Python 3",
   "language": "python",
   "name": "python3"
  },
  "language_info": {
   "codemirror_mode": {
    "name": "ipython",
    "version": 3
   },
   "file_extension": ".py",
   "mimetype": "text/x-python",
   "name": "python",
   "nbconvert_exporter": "python",
   "pygments_lexer": "ipython3",
   "version": "3.7.4"
  }
 },
 "nbformat": 4,
 "nbformat_minor": 4
}
