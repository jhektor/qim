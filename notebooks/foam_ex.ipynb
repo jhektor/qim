{
 "cells": [
  {
   "cell_type": "markdown",
   "metadata": {},
   "source": [
    "# 3D Image Analysis Example\n",
    "This purpose of this Jupyter notebook is to show how to perform some basic image analysis task on the Aurora cluster at Lunarc. The example data is acquired at the 4D Imaging Lab at Lund University. \n",
    "## Step 0: Getting the code\n",
    "Clone the QIM@LU GitHub repository by running \n",
    "```bash\n",
    "git clone https://github.com/jhektor/qim.git\n",
    "```\n",
    "in a terminal on Aurora. This will create a folder called qim which contains the code."
   ]
  },
  {
   "cell_type": "markdown",
   "metadata": {},
   "source": [
    "## Step 1: Setting up the python environment\n",
    "Before running this code you'll need to create a python environment for it. This is done by running the following commands in a terminal on Aurora:\n",
    "```bash\n",
    "module load anaconda3\n",
    "conda env create -f path_to_qim/qim/envs/qim_env.yml\n",
    "source activate qim\n",
    "jupyter labextension install @jupyter-widgets/jupyterlab-manager\n",
    "jupyter labextension install jupyter-matplotlib\n",
    "jupyter nbextension enable --py widgetsnbextension\n",
    "```\n",
    "\n",
    "This sets up a python3 environment containing [Jupyterlab](https://jupyterlab.readthedocs.io/en/latest/getting_started/installation.html#) and [dxchange](https://dxchange.readthedocs.io/en/latest/) as well as some standard python libraries such as numpy and matplotlib. You will only need to do this step the first time you want to run the code, for further use the following commands are enough\n",
    "```bash\n",
    "module load anaconda3\n",
    "source activate qim\n",
    "```\n",
    "Once the python environment is set you can open this notebook in your browser by running `jupyter lab foam_ex.ipnb` in the same terminal.\n",
    "\n",
    "## Step 2: Importing python modules\n",
    "The code below will import the python modules we will need for this example. If the dxchange module is not available the reading of the example data will be slower but it should still work."
   ]
  },
  {
   "cell_type": "code",
   "execution_count": 1,
   "metadata": {},
   "outputs": [],
   "source": [
    "try:\n",
    "    import dxchange.reader as dxreader\n",
    "    DXCHANGE = True\n",
    "except ImportError:\n",
    "    print('dxchange not available, reading data will be slower')\n",
    "    print('This is not yet implemented. Please install dxchange')\n",
    "    DXCHANGE = False\n",
    "    exit\n",
    "import numpy as np\n",
    "%matplotlib widget\n",
    "import matplotlib.pyplot as plt\n",
    "import matplotlib\n",
    "from scipy import ndimage as ndi \n",
    "from skimage.segmentation import watershed\n",
    "from skimage.feature import peak_local_max\n",
    "from skimage.morphology import remove_small_objects, h_maxima\n",
    "from skimage import measure\n"
   ]
  },
  {
   "cell_type": "markdown",
   "metadata": {},
   "source": [
    "## Step 3: Reading example data\n",
    "The example data is a tomography scan of a cellulose based foam. More details can be found in this [paper](https://www.sciencedirect.com/science/article/pii/S0021979716301734?via%3Dihub). The data set consist of 400 tif images, each one represents a slice through the sample. The code below reads the dataset using dxchange and plots the first slice. It also creates a mask of the region containing the sample"
   ]
  },
  {
   "cell_type": "code",
   "execution_count": 2,
   "metadata": {},
   "outputs": [
    {
     "data": {
      "text/plain": [
       "Canvas(toolbar=Toolbar(toolitems=[('Home', 'Reset original view', 'home', 'home'), ('Back', 'Back to previous …"
      ]
     },
     "metadata": {},
     "output_type": "display_data"
    },
    {
     "data": {
      "text/plain": [
       "Canvas(toolbar=Toolbar(toolitems=[('Home', 'Reset original view', 'home', 'home'), ('Back', 'Back to previous …"
      ]
     },
     "metadata": {},
     "output_type": "display_data"
    },
    {
     "data": {
      "text/plain": [
       "<matplotlib.image.AxesImage at 0x7f1ab8f0bad0>"
      ]
     },
     "execution_count": 2,
     "metadata": {},
     "output_type": "execute_result"
    }
   ],
   "source": [
    "filepath = '/home/hektor/data/foam/foam2_40kV_3micron_16bit/foam2_40kV_3micron0000.tif'\n",
    "if DXCHANGE:\n",
    "    ind = np.arange(0,400)\n",
    "    data = dxreader.read_tiff_stack(filepath,ind)\n",
    "plotslice = 200\n",
    "plt.figure()\n",
    "plt.imshow(data[plotslice],plt.cm.gray)\n",
    "plt.suptitle('Center slice')\n",
    "#Create mask\n",
    "mask = np.where(data>1,True,False)\n",
    "plt.figure()\n",
    "plt.suptitle('Mask')\n",
    "plt.imshow(mask[plotslice])"
   ]
  },
  {
   "cell_type": "markdown",
   "metadata": {},
   "source": [
    "## Step 4: Thresholding"
   ]
  },
  {
   "cell_type": "markdown",
   "metadata": {},
   "source": [
    "The goal of the thresholding is to identify the different phases present in the sample. In our case this means to separate the cell walls of the foams from the air inside the cells.\n",
    "For thresholding it can be very useful to look at the histogram of all images. To better see smaller peaks we plot the histogram in logarithmic scale."
   ]
  },
  {
   "cell_type": "code",
   "execution_count": 3,
   "metadata": {},
   "outputs": [
    {
     "data": {
      "text/plain": [
       "Canvas(toolbar=Toolbar(toolitems=[('Home', 'Reset original view', 'home', 'home'), ('Back', 'Back to previous …"
      ]
     },
     "metadata": {},
     "output_type": "display_data"
    },
    {
     "name": "stdout",
     "output_type": "stream",
     "text": [
      "Intensity of the main peak is  9274.9195\n"
     ]
    }
   ],
   "source": [
    "hist,be = np.histogram(data[mask],bins=1000)\n",
    "bc = (be[1:] + be[:-1])/2 #bin centers (arithmetic mean)\n",
    "plt.figure()\n",
    "plt.semilogy(bc,hist)\n",
    "print('Intensity of the main peak is ', bc[np.argmax(hist)])"
   ]
  },
  {
   "cell_type": "markdown",
   "metadata": {},
   "source": [
    "The intensity of the main peak is roughly 9300. As a first test let's see what happens if we make a binary image where 0 and 1 represents intensities above and below than 10000, respectively."
   ]
  },
  {
   "cell_type": "code",
   "execution_count": 4,
   "metadata": {},
   "outputs": [
    {
     "data": {
      "text/plain": [
       "Canvas(toolbar=Toolbar(toolitems=[('Home', 'Reset original view', 'home', 'home'), ('Back', 'Back to previous …"
      ]
     },
     "metadata": {},
     "output_type": "display_data"
    }
   ],
   "source": [
    "threshold = 10000\n",
    "binary = np.where(data>threshold,0,1)\n",
    "fig,axes = plt.subplots(1,3)\n",
    "ax = axes.ravel()\n",
    "ax[0].imshow(binary[plotslice],cmap=plt.cm.gray)\n",
    "ax[0].set_title('Top view')\n",
    "ax[1].imshow(binary[:,plotslice,:],cmap=plt.cm.gray)\n",
    "ax[1].set_title('Side view')\n",
    "ax[2].imshow(binary[:,:,plotslice],cmap=plt.cm.gray)\n",
    "ax[2].set_title('Front view')\n",
    "\n",
    "fig.tight_layout()"
   ]
  },
  {
   "cell_type": "markdown",
   "metadata": {},
   "source": [
    "## Step 5: Segmentation and labelling\n",
    "As seen above it is possible to separate the cell walls from the interior of the cells using a carefully selected intensity threshold. What we want to do now is to identify each individual cell in the sample. We'll do this using the [watershed](https://en.wikipedia.org/wiki/Watershed_(image_processing)) transformation. The first step is to compute a distance map from the binary image we created in the previous step. Each voxel in the distance transform will contain the distance (in voxels) to the closest 0 in the binary image. In the next step all local maximas with distances larger than 5 voxels are identified. These are used as seeds for the watershed function, i.e. they are the deepest part of the basins which are being filled during the watersheding. After watersheding we have identified and labelled each individual foam cell in the sample."
   ]
  },
  {
   "cell_type": "code",
   "execution_count": 5,
   "metadata": {},
   "outputs": [],
   "source": [
    "start,end =0,400 # Change these numbers to select a smaller part of the dataset\n",
    "dmap = ndi.distance_transform_edt(binary) #distance transform\n",
    "local_maxi = h_maxima(dmap[start:end],5)\n",
    "markers = measure.label(local_maxi) #Use local maximas of the distance map as seeds for the watershed\n",
    "labels = watershed(-dmap[start:end], markers, mask=binary[start:end]) #Watershed\n"
   ]
  },
  {
   "cell_type": "code",
   "execution_count": 6,
   "metadata": {},
   "outputs": [
    {
     "data": {
      "text/plain": [
       "Canvas(toolbar=Toolbar(toolitems=[('Home', 'Reset original view', 'home', 'home'), ('Back', 'Back to previous …"
      ]
     },
     "metadata": {},
     "output_type": "display_data"
    },
    {
     "data": {
      "text/plain": [
       "Canvas(toolbar=Toolbar(toolitems=[('Home', 'Reset original view', 'home', 'home'), ('Back', 'Back to previous …"
      ]
     },
     "metadata": {},
     "output_type": "display_data"
    },
    {
     "name": "stdout",
     "output_type": "stream",
     "text": [
      "(400, 507, 496) 200\n"
     ]
    }
   ],
   "source": [
    "mid = start + (end-start)//2 # for plotting\n",
    "\n",
    "fig, axes = plt.subplots(ncols=3, figsize=(9, 3), sharex=True, sharey=True)\n",
    "ax = axes.ravel()\n",
    "\n",
    "ax[0].imshow(binary[mid]*mask[mid], cmap=plt.cm.gray)\n",
    "ax[0].set_title('Overlapping objects')\n",
    "ax[1].imshow(-dmap[mid]*mask[mid], cmap=plt.cm.gray)\n",
    "ax[1].set_title('Distances')\n",
    "ax[2].imshow(labels[(end-start)//2]*mask[mid], cmap=plt.cm.nipy_spectral)\n",
    "ax[2].set_title('Separated objects')\n",
    "\n",
    "for a in ax:\n",
    "    a.set_axis_off()\n",
    "\n",
    "fig.tight_layout()\n",
    "plt.show()\n",
    "\n",
    "fig,axes = plt.subplots(1,3)\n",
    "ax = axes.ravel()\n",
    "print(labels.shape, (end-start)//2)\n",
    "ax[0].imshow(labels[(end-start)//2,:,:]*mask[mid,:,:],cmap=plt.cm.nipy_spectral)\n",
    "ax[0].set_title('Top view')\n",
    "ax[1].imshow(labels[:,(end-start)//2,:]*mask[:,mid,:],cmap=plt.cm.nipy_spectral)\n",
    "ax[1].set_title('Side view')\n",
    "ax[2].imshow(labels[:,:,(end-start)//2]*mask[:,:,mid],cmap=plt.cm.nipy_spectral)\n",
    "ax[2].set_title('Front view')\n",
    "\n",
    "fig.tight_layout()"
   ]
  },
  {
   "cell_type": "markdown",
   "metadata": {},
   "source": [
    "## Step 6: Quantification\n",
    "We are now ready to extract some numbers from the labelled dataset. For example we can look at the size distribution of the cells."
   ]
  },
  {
   "cell_type": "code",
   "execution_count": 8,
   "metadata": {},
   "outputs": [
    {
     "data": {
      "text/plain": [
       "Canvas(toolbar=Toolbar(toolitems=[('Home', 'Reset original view', 'home', 'home'), ('Back', 'Back to previous …"
      ]
     },
     "metadata": {},
     "output_type": "display_data"
    }
   ],
   "source": [
    "voxsize = 3\n",
    "props = measure.regionprops(labels*mask, intensity_image=data) #This will compute a buch of properties of each label\n",
    "max_sizes = [voxsize*p.major_axis_length for p in props]\n",
    "min_sizes = [voxsize*p.minor_axis_length for p in props]\n",
    "    \n",
    "fig,axes = plt.subplots(1,2,sharey=True)\n",
    "ax = axes.ravel()\n",
    "ax[0].hist(min_sizes,bins=30,density=True,range=(0,300))\n",
    "ax[0].set_ylabel('Probability density')\n",
    "ax[0].set_xlabel('Minor axis length [micron]')\n",
    "ax[1].hist(max_sizes,bins=30,density=True,range=(0,900))\n",
    "ax[1].set_xlabel('Major axis length [micron]')\n",
    "plt.show()"
   ]
  }
 ],
 "metadata": {
  "kernelspec": {
   "display_name": "Python 3",
   "language": "python",
   "name": "python3"
  },
  "language_info": {
   "codemirror_mode": {
    "name": "ipython",
    "version": 3
   },
   "file_extension": ".py",
   "mimetype": "text/x-python",
   "name": "python",
   "nbconvert_exporter": "python",
   "pygments_lexer": "ipython3",
   "version": "3.8.2"
  }
 },
 "nbformat": 4,
 "nbformat_minor": 4
}
