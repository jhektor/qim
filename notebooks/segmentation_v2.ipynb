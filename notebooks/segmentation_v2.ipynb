{
 "cells": [
  {
   "cell_type": "markdown",
   "metadata": {},
   "source": [
    "# Segmentation using the qim.register module\n",
    "*TODO: Figure our how to \"install\" the module so that I don't need to put the github folder in the path.*\n",
    "\n",
    "## Load modules"
   ]
  },
  {
   "cell_type": "code",
   "execution_count": 1,
   "metadata": {},
   "outputs": [],
   "source": [
    "import sys, os\n",
    "#sys.path.insert(0, '/home/hektor/scripts')\n",
    "sys.path.insert(0, '/lunarc/nobackup/projects/qim')\n",
    "\n",
    "import qim.registration as registration\n",
    "import qim.tools as tools\n",
    "import tifffile\n",
    "import numpy as np\n",
    "import matplotlib.pyplot as plt\n",
    "%matplotlib widget\n",
    "\n",
    "from skimage import filters\n"
   ]
  },
  {
   "cell_type": "markdown",
   "metadata": {},
   "source": [
    "## Read data\n",
    "The data is from Elins rat bone"
   ]
  },
  {
   "cell_type": "code",
   "execution_count": 2,
   "metadata": {},
   "outputs": [],
   "source": [
    "qimfolder = '/lunarc/nobackup/projects/qim/QIM_2020_LU_Elin_Bio'\n",
    "datapath = os.path.join(qimfolder,'pvt21/reg-common-peaks_new')\n",
    "x_data = os.path.join(datapath,'x_registered.tiff')\n",
    "n_data = os.path.join(datapath,'n-bin1.tif')\n",
    "\n",
    "x_volume = tifffile.imread(x_data)\n",
    "n_volume = tifffile.imread(n_data)\n"
   ]
  },
  {
   "cell_type": "markdown",
   "metadata": {},
   "source": [
    "## Create the dual histogram\n",
    "\n",
    "The x-ray data will be on the x-axis and the neutron data on the y-axis. The number of bins will be the same on both axes.\n",
    "\n",
    "*TODO: perhaps it is useful to have different number of bins on the axes*\n"
   ]
  },
  {
   "cell_type": "code",
   "execution_count": 3,
   "metadata": {},
   "outputs": [
    {
     "data": {
      "application/vnd.jupyter.widget-view+json": {
       "model_id": "373fcf44a91c4fc386aab1dc52b335eb",
       "version_major": 2,
       "version_minor": 0
      },
      "text/plain": [
       "Canvas(toolbar=Toolbar(toolitems=[('Home', 'Reset original view', 'home', 'home'), ('Back', 'Back to previous …"
      ]
     },
     "metadata": {},
     "output_type": "display_data"
    }
   ],
   "source": [
    "nbins = 256\n",
    "H,xedges,yedges = registration.make_dual_histogram(x_volume,n_volume,nbins)\n",
    "\n",
    "#H0 = H[0,0]\n",
    "xc = tools.find_bin_centers(xedges)\n",
    "yc = tools.find_bin_centers(yedges)\n",
    "for i,x in enumerate(xc):\n",
    "    for j,y in enumerate(yc):\n",
    "        if (x < 30000) and (y<30000):\n",
    "            H[i,j]=0\n",
    "#H[0,0]=H0\n",
    "#make a plot\n",
    "registration.plot_dual_histogram(H,xedges,yedges,xlabel='X-ray intensity',ylabel='Neutron intensity',vmax=1500)"
   ]
  },
  {
   "cell_type": "markdown",
   "metadata": {},
   "source": [
    "## Fit Gaussians to the histogram\n",
    "This will automatically look for maximas of the histogram.\n",
    "\n",
    "*TODO: Make it work better for peaks at the edges*\n"
   ]
  },
  {
   "cell_type": "code",
   "execution_count": 12,
   "metadata": {},
   "outputs": [
    {
     "name": "stdout",
     "output_type": "stream",
     "text": [
      "Trying to fit peak at (20863.7, 46207.3)\n",
      "Initial guess: [20863.682 46207.295 100.0 100.0 0.0 1462.000000 0.0]\n",
      "Fitted parameters [19855.249 45649.577 3106.0 2460.2 -1.8 1845.996288 -2.0]\n",
      "Fitted 1 peaks\n",
      "Trying to fit peak at (35199.5, 30079.5)\n",
      "Initial guess: [35199.463 30079.541 100.0 100.0 0.0 3271.000000 0.0]\n",
      "Fitted parameters [36630.630 28768.173 3078.6 2397.3 -0.6 6268.389957 -3.6]\n",
      "Fitted 2 peaks\n",
      "Trying to fit peak at (65407.0, 16255.8)\n",
      "Marker is on an edge\n",
      "Initial guess: [65407.002 16255.752 100.0 100.0 0.0 112817.000000 0.0]\n",
      "Fitted parameters [65452.993 15306.796 60.3 1567.5 0.0 198735.402787 5.4]\n",
      "Fitted 3 peaks\n"
     ]
    },
    {
     "data": {
      "application/vnd.jupyter.widget-view+json": {
       "model_id": "2477d5ae8f2b46c8a5c304551b7b11ac",
       "version_major": 2,
       "version_minor": 0
      },
      "text/plain": [
       "Canvas(toolbar=Toolbar(toolitems=[('Home', 'Reset original view', 'home', 'home'), ('Back', 'Back to previous …"
      ]
     },
     "metadata": {},
     "output_type": "display_data"
    }
   ],
   "source": [
    "# generate markers\n",
    "ml = [[0,2500],[8000,0],[65400,8700]]\n",
    "ml = [[0,2500],[7175, 3139], [20800, 46000], [25800, 15900], [48000, 28000], [66085, 16200]]#x reg onto n\n",
    "ml = [[20800, 46000], [35000, 30000], [65400, 16200]]#x reg onto n\n",
    "markers = registration.setup_markers(H,xedges,yedges,markers=ml)\n",
    "# Fit a Gaussian to each marker\n",
    "opts = registration.fit_gaussians(H,markers,xedges,yedges,fitdist=20)\n",
    "# Make a plot with markers and Gaussians\n",
    "registration.plot_dual_histogram(H,xedges,yedges,xlabel='X-ray intensity',ylabel='Neutron intensity',vmax=1500,markers=markers,fits=opts)"
   ]
  },
  {
   "cell_type": "markdown",
   "metadata": {},
   "source": [
    "## Build phase diagram\n",
    "This will also find the maximum distance to consider in order to fill a certain amount of the histogram. The amount is set by coverage\n",
    "\n",
    "*TODO: Check how the distance function works*\n",
    "\n",
    "*TODO: Make first color (background) black*"
   ]
  },
  {
   "cell_type": "code",
   "execution_count": 16,
   "metadata": {},
   "outputs": [
    {
     "name": "stdout",
     "output_type": "stream",
     "text": [
      "Finding full coverage: sigma=2, coverage=0.35541653690479946\n",
      "Finding full coverage: sigma=3, coverage=0.6248044207411518\n",
      "Finding full coverage: sigma=4, coverage=0.8168229665057433\n",
      "Finding full coverage: sigma=5, coverage=0.8917302939951289\n",
      "Finding full coverage: sigma=6, coverage=0.9067121990039733\n"
     ]
    },
    {
     "data": {
      "application/vnd.jupyter.widget-view+json": {
       "model_id": "7984dd69ae5f45f58139eea2c83950b3",
       "version_major": 2,
       "version_minor": 0
      },
      "text/plain": [
       "Canvas(toolbar=Toolbar(toolitems=[('Home', 'Reset original view', 'home', 'home'), ('Back', 'Back to previous …"
      ]
     },
     "metadata": {},
     "output_type": "display_data"
    }
   ],
   "source": [
    "coverage = 0.9\n",
    "phasediagram = registration.phase_diagram(H,xedges,yedges,opts,coverage=coverage)\n",
    "nphases=phasediagram.max()\n",
    "\n",
    "#plot the phasediagram\n",
    "cmap = 'Set3' #vill bara ha x färger\n",
    "Y,X = np.meshgrid(yedges,xedges,indexing='ij') #coordinates in dual histogram\n",
    "fig=plt.figure()\n",
    "m=plt.pcolormesh(X,Y,phasediagram,cmap=cmap)\n",
    "plt.xlabel('X-ray intensity')\n",
    "plt.ylabel('Neutron intensity')\n",
    "cb=fig.colorbar(m,ticks=range(nphases+1))\n",
    "m.set_clim(0.5, nphases + 0.5)\n"
   ]
  },
  {
   "cell_type": "code",
   "execution_count": null,
   "metadata": {},
   "outputs": [],
   "source": [
    "plt.figure()\n",
    "plt.imshow(phasediagram,origin='lower',cmap=cmap)"
   ]
  },
  {
   "cell_type": "markdown",
   "metadata": {},
   "source": [
    "## Map from the phase diagram to the volume\n",
    "This create a segmented volume. It is possible to label just one slice by giving slicenr. slicenr=None will label the full volume.\n",
    "\n",
    "*TODO Check if this is terribly slow for a real volume*"
   ]
  },
  {
   "cell_type": "code",
   "execution_count": 25,
   "metadata": {},
   "outputs": [
    {
     "name": "stdout",
     "output_type": "stream",
     "text": [
      "Labelling slice 750 of 1220\n",
      "Assigned voxels of each phase:\n",
      "Phase 0: 238642 voxels\n",
      "Phase 1: 2914 voxels\n",
      "Phase 2: 29628 voxels\n",
      "Phase 3: 71016 voxels\n"
     ]
    }
   ],
   "source": [
    "#%%time\n",
    "slicenr = 750\n",
    "labels = registration.map_to_volume(x_volume,n_volume,xedges,yedges,phasediagram,slicenr=slicenr)\n",
    "labels = labels.astype(np.uint8)\n",
    "print('Assigned voxels of each phase:')\n",
    "bc = np.bincount(labels.ravel())\n",
    "for i,b in enumerate(bc):\n",
    "    print('Phase {:d}: {:d} voxels'.format(i,b))"
   ]
  },
  {
   "cell_type": "code",
   "execution_count": 26,
   "metadata": {},
   "outputs": [
    {
     "data": {
      "application/vnd.jupyter.widget-view+json": {
       "model_id": "e02c575fea6843d1a29ab322e2efd0f1",
       "version_major": 2,
       "version_minor": 0
      },
      "text/plain": [
       "Canvas(toolbar=Toolbar(toolitems=[('Home', 'Reset original view', 'home', 'home'), ('Back', 'Back to previous …"
      ]
     },
     "metadata": {},
     "output_type": "display_data"
    }
   ],
   "source": [
    "if not slicenr:\n",
    "    z,x,y = labels.shape[0]//2, labels.shape[1]//2,labels.shape[2]//2\n",
    "    fig,axes=plt.subplots(1,3,figsize=(12,6))\n",
    "    ax = axes.ravel()\n",
    "    fig.suptitle('Labelled slices')\n",
    "    m=ax[0].imshow(labels[z],cmap=cmap,vmin=1)\n",
    "    ax[1].imshow(labels[:,x,:],cmap=cmap,vmin=1)\n",
    "    ax[2].imshow(labels[:,:,y],cmap=cmap,vmin=1)\n",
    "    cb=fig.colorbar(m,ticks=range(nphases+1))\n",
    "    m.set_clim(0.5, nphases + 0.5)\n",
    "\n",
    "    fig,axes=plt.subplots(1,3,figsize=(12,6))\n",
    "    ax = axes.ravel()\n",
    "    fig.suptitle('X-ray data')\n",
    "    ax[0].imshow(x_volume[z],cmap='Greys_r')\n",
    "    ax[1].imshow(x_volume_def[:,x,:],cmap='Greys_r')\n",
    "    ax[2].imshow(x_volume_def[:,:,y],cmap='Greys_r')\n",
    "\n",
    "    fig,axes=plt.subplots(1,3,figsize=(12,6))\n",
    "    ax = axes.ravel()\n",
    "    fig.suptitle('Neutron data')\n",
    "    ax[0].imshow(n_volume[z],cmap='Greys_r')\n",
    "    ax[1].imshow(n_volume[:,x,:],cmap='Greys_r')\n",
    "    ax[2].imshow(n_volume[:,:,y],cmap='Greys_r')\n",
    "else:\n",
    "    fig,axes=plt.subplots(1,3,figsize=(12,6),sharex=True,sharey=True)\n",
    "    ax = axes.ravel()\n",
    "    ax[0].set_title('Labelled slices')\n",
    "    m=ax[0].imshow(labels,cmap=cmap,vmin=1)\n",
    "    cb=fig.colorbar(m,ticks=range(nphases+1))\n",
    "    m.set_clim(0.5, nphases + 0.5)\n",
    "    ax[1].set_title('X-ray data')\n",
    "    ax[1].imshow(x_volume[slicenr],cmap='Greys_r')\n",
    "    ax[2].set_title('Neutron data')\n",
    "    ax[2].imshow(n_volume[slicenr],cmap='Greys_r')\n",
    " "
   ]
  },
  {
   "cell_type": "code",
   "execution_count": null,
   "metadata": {},
   "outputs": [],
   "source": [
    "plt.figure()\n",
    "plt.imshow(labels==1)"
   ]
  },
  {
   "cell_type": "code",
   "execution_count": null,
   "metadata": {},
   "outputs": [],
   "source": []
  }
 ],
 "metadata": {
  "kernelspec": {
   "display_name": "Python 3",
   "language": "python",
   "name": "python3"
  },
  "language_info": {
   "codemirror_mode": {
    "name": "ipython",
    "version": 3
   },
   "file_extension": ".py",
   "mimetype": "text/x-python",
   "name": "python",
   "nbconvert_exporter": "python",
   "pygments_lexer": "ipython3",
   "version": "3.7.4"
  }
 },
 "nbformat": 4,
 "nbformat_minor": 4
}
