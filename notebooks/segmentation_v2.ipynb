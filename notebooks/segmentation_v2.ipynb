{
 "cells": [
  {
   "cell_type": "markdown",
   "metadata": {},
   "source": [
    "# Segmentation using the qim.register module\n",
    "*TODO: Figure our how to \"install\" the module so that I don't need to put the github folder in the path.*\n",
    "\n",
    "## Load modules"
   ]
  },
  {
   "cell_type": "code",
   "execution_count": 1,
   "metadata": {},
   "outputs": [],
   "source": [
    "import sys, os\n",
    "sys.path.insert(0, '/home/hektor/scripts')\n",
    "import qim.registration as registration\n",
    "import tifffile\n",
    "import numpy as np\n",
    "import matplotlib.pyplot as plt\n",
    "%matplotlib widget\n",
    "\n",
    "from skimage import filters\n"
   ]
  },
  {
   "cell_type": "markdown",
   "metadata": {},
   "source": [
    "## Read data\n",
    "Each of samples can be loaded by changing sample_number.\n",
    "* sample_number = 1: The large sample at the top\n",
    "* sample_number = 2: Second sample from the top\n",
    "* sample_number = 3: Third sample from the top (bottom left)\n",
    "* sample_number = 4: Fourth sample from the top (bottom right)\n",
    "* sample_number = 5: Josefins sample"
   ]
  },
  {
   "cell_type": "code",
   "execution_count": 2,
   "metadata": {},
   "outputs": [],
   "source": [
    "sample_number = 2\n",
    "\n",
    "qimfolder = '/lunarc/nobackup/projects/qim/QIM_2020_LU_Josefin_GEO'\n",
    "if sample_number == 5:\n",
    "    datapath = os.path.join(qimfolder,'RegistrationILL/Bin1')\n",
    "    x_data = os.path.join(datapath,'x_registered.tiff')\n",
    "    n_data = os.path.join(datapath,'neutron-bin1.tif')\n",
    "else:\n",
    "    datapath = os.path.join(qimfolder,'johan_registration/bin1')\n",
    "    x_data = os.path.join(datapath,'s{:d}_xray_b1.tif'.format(sample_number))\n",
    "    n_data = os.path.join(datapath,'s{:d}_neutron_b1.tif'.format(sample_number))\n",
    "\n",
    "x_volume = tifffile.imread(x_data)\n",
    "n_volume = tifffile.imread(n_data)\n"
   ]
  },
  {
   "cell_type": "markdown",
   "metadata": {},
   "source": [
    "## Apply median filter to the neutron data\n",
    "This is to reduce the noise a bit. It might be worth playing a little bit here"
   ]
  },
  {
   "cell_type": "code",
   "execution_count": 3,
   "metadata": {},
   "outputs": [
    {
     "data": {
      "application/vnd.jupyter.widget-view+json": {
       "model_id": "49ceb4dfdeb246348e540a46337380ad",
       "version_major": 2,
       "version_minor": 0
      },
      "text/plain": [
       "Canvas(toolbar=Toolbar(toolitems=[('Home', 'Reset original view', 'home', 'home'), ('Back', 'Back to  previous…"
      ]
     },
     "metadata": {},
     "output_type": "display_data"
    },
    {
     "data": {
      "text/plain": [
       "<matplotlib.legend.Legend at 0x7f550944ff50>"
      ]
     },
     "execution_count": 3,
     "metadata": {},
     "output_type": "execute_result"
    }
   ],
   "source": [
    "s = 3 #this is the size of the filter\n",
    "selem = np.ones((s,s,s))\n",
    "n_filt = filters.median(n_volume,selem=selem)\n",
    "\n",
    "fig,axes=plt.subplots(1,2,figsize=(8,4))\n",
    "for t, volume in zip(['Original','Filtered'],[n_volume,n_filt]):\n",
    "    hist,be = np.histogram(volume.flatten(),bins=100,range=(5000,volume.max()))\n",
    "    bc = (be[1:] + be[:-1])/2 #bin centers (arithmetic mean)\n",
    "    ax = axes.ravel()\n",
    "    ax[0].hist(volume.flatten(),bins=100,range=(5000,volume.max()))\n",
    "    ax[0].set_title('Linear scale')\n",
    "    ax[1].semilogy(bc,hist,label=t)\n",
    "    ax[1].set_title('Logarithmic scale')\n",
    "    for a in ax:\n",
    "        a.set_xlabel('Grayscale value')\n",
    "        a.set_ylabel('Counts')\n",
    "fig.legend()"
   ]
  },
  {
   "cell_type": "markdown",
   "metadata": {},
   "source": [
    "## Create the dual histogram\n",
    "\n",
    "The x-ray data will be on the x-axis and the neutron data on the y-axis. The number of bins will be the same on both axes.\n",
    "\n",
    "*TODO: perhaps it is useful to have different number of bins on the axes*\n"
   ]
  },
  {
   "cell_type": "code",
   "execution_count": 4,
   "metadata": {},
   "outputs": [
    {
     "data": {
      "application/vnd.jupyter.widget-view+json": {
       "model_id": "8096665d7b2c470c8a0ca9c9068ab033",
       "version_major": 2,
       "version_minor": 0
      },
      "text/plain": [
       "Canvas(toolbar=Toolbar(toolitems=[('Home', 'Reset original view', 'home', 'home'), ('Back', 'Back to  previous…"
      ]
     },
     "metadata": {},
     "output_type": "display_data"
    }
   ],
   "source": [
    "nbins = 256\n",
    "H,xcen,ycen = registration.make_dual_histogram(x_volume,n_filt,nbins)\n",
    "\n",
    "#make a plot\n",
    "registration.plot_dual_histogram(H,xcen,ycen,xlabel='X-ray intensity',ylabel='Neutron intensity',vmax=1500)"
   ]
  },
  {
   "cell_type": "markdown",
   "metadata": {},
   "source": [
    "## Fit Gaussians to the histogram\n",
    "This will automatically look for maximas of the histogram.\n",
    "\n",
    "*TODO: Make it work better for peaks at the edges*\n"
   ]
  },
  {
   "cell_type": "code",
   "execution_count": 5,
   "metadata": {},
   "outputs": [
    {
     "name": "stdout",
     "output_type": "stream",
     "text": [
      "Trying to fit peak at (45695.3, 28753.2)\n",
      "Initial guess: [45695.303 28753.186 1000.0 1000.0 0.0 17127.000000 0.0]\n",
      "Fitted parameters [45321.804 28998.006 1932.9 3142.8 -0.0 16130.172961 0.0]\n",
      "Fitted 1 peaks\n",
      "Trying to fit peak at (38271.4, 33313.2)\n",
      "Initial guess: [38271.416 33313.162 1000.0 1000.0 0.0 3661.000000 0.0]\n",
      "Fitted parameters [40497.174 32654.296 2997.8 3596.7 -10.3 4663.985141 -6.3]\n",
      "Fitted 2 peaks\n",
      "Trying to fit peak at (50303.2, 38379.8)\n",
      "Initial guess: [50303.232 38379.803 1000.0 1000.0 0.0 612.000000 0.0]\n",
      "Fitted parameters [46763.235 34926.801 1246.4 2255.6 -7.0 3647.087119 9.4]\n",
      "Fitted 3 peaks\n",
      "Trying to fit peak at (36223.4, 25206.5)\n",
      "Initial guess: [36223.447 25206.537 1000.0 1000.0 0.0 626.000000 0.0]\n",
      "Fitted parameters [39426.951 27928.300 1705.4 3167.0 -13.3 2762.323409 3.5]\n",
      "Fitted 4 peaks\n",
      "Trying to fit peak at (30847.5, 18873.2)\n",
      "Initial guess: [30847.529 18873.236 1000.0 1000.0 0.0 271.000000 0.0]\n",
      "Fitted parameters [32781.370 21577.232 2727.2 2113.7 1.5 385.475753 -0.1]\n",
      "Fitted 5 peaks\n",
      "Trying to fit peak at (43135.3, 40406.5)\n",
      "Initial guess: [43135.342 40406.459 1000.0 1000.0 0.0 732.000000 0.0]\n",
      "Fitted parameters [42733.998 36516.316 1869.2 3401.3 -1.3 2846.007164 1.7]\n",
      "Fitted 6 peaks\n",
      "Trying to fit peak at (40575.4, 48259.8)\n",
      "Initial guess: [40575.381 48259.752 1000.0 1000.0 0.0 89.000000 0.0]\n",
      "Fitted parameters [40288.223 44080.394 3000.1 1796.2 0.1 285.000240 0.3]\n",
      "Fitted 7 peaks\n",
      "Trying to fit peak at (46719.3, 17099.9)\n",
      "Initial guess: [46719.287 17099.912 1000.0 1000.0 0.0 14.000000 0.0]\n",
      "Fitted parameters [45703.589 22542.907 667.7 1431.4 -1.8 2379.085180 0.6]\n",
      "Fitted 8 peaks\n",
      "Trying to fit peak at (54143.2, 11273.3)\n",
      "Initial guess: [54143.174 11273.275 1000.0 1000.0 0.0 1.000000 0.0]\n",
      "Failed to fit this peak. Moving to the next.\n"
     ]
    },
    {
     "data": {
      "application/vnd.jupyter.widget-view+json": {
       "model_id": "af2c1669b906470ba8bea69b9120f4ed",
       "version_major": 2,
       "version_minor": 0
      },
      "text/plain": [
       "Canvas(toolbar=Toolbar(toolitems=[('Home', 'Reset original view', 'home', 'home'), ('Back', 'Back to  previous…"
      ]
     },
     "metadata": {},
     "output_type": "display_data"
    }
   ],
   "source": [
    "# generate markers\n",
    "markers = registration.setup_markers(H,xcen,ycen)\n",
    "# Fit a Gaussian to each marker\n",
    "opts = registration.fit_gaussians(H,markers,xcen,ycen)\n",
    "# Make a plot with markers and Gaussians\n",
    "registration.plot_dual_histogram(H,xcen,ycen,xlabel='X-ray intensity',ylabel='Neutron intensity',vmax=1500,markers=markers,fits=opts)"
   ]
  },
  {
   "cell_type": "markdown",
   "metadata": {},
   "source": [
    "## Build phase diagram\n",
    "This will also find the maximum distance to consider in order to fill a certain amount of the histogram. The amount is set by coverage\n",
    "\n",
    "*TODO: Check how the distance function works*\n",
    "\n",
    "*TODO: Make first color (background) black*"
   ]
  },
  {
   "cell_type": "code",
   "execution_count": 10,
   "metadata": {},
   "outputs": [
    {
     "name": "stdout",
     "output_type": "stream",
     "text": [
      "Finding full coverage: sigma=2, coverage=0.801247354236596\n",
      "Finding full coverage: sigma=3, coverage=0.8389816810599645\n",
      "Finding full coverage: sigma=4, coverage=0.8820407797402279\n",
      "Finding full coverage: sigma=5, coverage=0.9744794868589137\n",
      "Finding full coverage: sigma=6, coverage=0.9975124357348165\n"
     ]
    },
    {
     "data": {
      "application/vnd.jupyter.widget-view+json": {
       "model_id": "58fc265b0f6b4ed586bb39d64cca3af9",
       "version_major": 2,
       "version_minor": 0
      },
      "text/plain": [
       "Canvas(toolbar=Toolbar(toolitems=[('Home', 'Reset original view', 'home', 'home'), ('Back', 'Back to  previous…"
      ]
     },
     "metadata": {},
     "output_type": "display_data"
    },
    {
     "data": {
      "text/plain": [
       "<matplotlib.colorbar.Colorbar at 0x7f5508c1f210>"
      ]
     },
     "execution_count": 10,
     "metadata": {},
     "output_type": "execute_result"
    }
   ],
   "source": [
    "coverage = 0.99\n",
    "phasediagram = registration.phase_diagram(H,xcen,ycen,opts,coverage=coverage)\n",
    "\n",
    "#plot the phasediagram\n",
    "cmap = 'Set3'\n",
    "Y,X = np.meshgrid(ycen,xcen,indexing='ij') #coordinates in dual histogram\n",
    "plt.figure()\n",
    "plt.pcolormesh(X,Y,phasediagram,cmap=cmap)\n",
    "plt.xlabel('X-ray intensity')\n",
    "plt.ylabel('Neutron intensity')\n",
    "plt.colorbar()"
   ]
  },
  {
   "cell_type": "markdown",
   "metadata": {},
   "source": [
    "## Map from the phase diagram to the volume\n",
    "This create a segmented volume. It is possible to label just one slice by giving slicenr. slicenr=None will label the full volume.\n",
    "\n",
    "*TODO Check if this is terribly slow for a real volume*"
   ]
  },
  {
   "cell_type": "code",
   "execution_count": null,
   "metadata": {},
   "outputs": [
    {
     "name": "stdout",
     "output_type": "stream",
     "text": [
      "Labelling slice 0 for 374\n",
      "Labelling slice 1 for 374\n",
      "Labelling slice 2 for 374\n",
      "Labelling slice 3 for 374\n",
      "Labelling slice 4 for 374\n",
      "Labelling slice 5 for 374\n",
      "Labelling slice 6 for 374\n",
      "Labelling slice 7 for 374\n",
      "Labelling slice 8 for 374\n",
      "Labelling slice 9 for 374\n",
      "Labelling slice 10 for 374\n",
      "Labelling slice 11 for 374\n",
      "Labelling slice 12 for 374\n",
      "Labelling slice 13 for 374\n",
      "Labelling slice 14 for 374\n",
      "Labelling slice 15 for 374\n",
      "Labelling slice 16 for 374\n",
      "Labelling slice 17 for 374\n",
      "Labelling slice 18 for 374\n",
      "Labelling slice 19 for 374\n",
      "Labelling slice 20 for 374\n",
      "Labelling slice 21 for 374\n",
      "Labelling slice 22 for 374\n",
      "Labelling slice 23 for 374\n",
      "Labelling slice 24 for 374\n",
      "Labelling slice 25 for 374\n",
      "Labelling slice 26 for 374\n",
      "Labelling slice 27 for 374\n",
      "Labelling slice 28 for 374\n",
      "Labelling slice 29 for 374\n",
      "Labelling slice 30 for 374\n",
      "Labelling slice 31 for 374\n",
      "Labelling slice 32 for 374\n",
      "Labelling slice 33 for 374\n",
      "Labelling slice 34 for 374\n",
      "Labelling slice 35 for 374\n",
      "Labelling slice 36 for 374\n",
      "Labelling slice 37 for 374\n",
      "Labelling slice 38 for 374\n",
      "Labelling slice 39 for 374\n",
      "Labelling slice 40 for 374\n",
      "Labelling slice 41 for 374\n",
      "Labelling slice 42 for 374\n",
      "Labelling slice 43 for 374\n",
      "Labelling slice 44 for 374\n",
      "Labelling slice 45 for 374\n",
      "Labelling slice 46 for 374\n",
      "Labelling slice 47 for 374\n",
      "Labelling slice 48 for 374\n",
      "Labelling slice 49 for 374\n",
      "Labelling slice 50 for 374\n",
      "Labelling slice 51 for 374\n",
      "Labelling slice 52 for 374\n",
      "Labelling slice 53 for 374\n",
      "Labelling slice 54 for 374\n",
      "Labelling slice 55 for 374\n",
      "Labelling slice 56 for 374\n",
      "Labelling slice 57 for 374\n",
      "Labelling slice 58 for 374\n",
      "Labelling slice 59 for 374\n",
      "Labelling slice 60 for 374\n",
      "Labelling slice 61 for 374\n",
      "Labelling slice 62 for 374\n",
      "Labelling slice 63 for 374\n",
      "Labelling slice 64 for 374\n",
      "Labelling slice 65 for 374\n",
      "Labelling slice 66 for 374\n",
      "Labelling slice 67 for 374\n",
      "Labelling slice 68 for 374\n",
      "Labelling slice 69 for 374\n",
      "Labelling slice 70 for 374\n",
      "Labelling slice 71 for 374\n",
      "Labelling slice 72 for 374\n",
      "Labelling slice 73 for 374\n",
      "Labelling slice 74 for 374\n",
      "Labelling slice 75 for 374\n"
     ]
    }
   ],
   "source": [
    "%%time\n",
    "slicenr = None\n",
    "labels = registration.map_to_volume(x_volume,n_filt,xcen,ycen,phasediagram,slicenr=slicenr)"
   ]
  },
  {
   "cell_type": "code",
   "execution_count": 13,
   "metadata": {},
   "outputs": [
    {
     "data": {
      "application/vnd.jupyter.widget-view+json": {
       "model_id": "45a1dfd7f3eb4558a2e90f8c60aff6b5",
       "version_major": 2,
       "version_minor": 0
      },
      "text/plain": [
       "Canvas(toolbar=Toolbar(toolitems=[('Home', 'Reset original view', 'home', 'home'), ('Back', 'Back to  previous…"
      ]
     },
     "metadata": {},
     "output_type": "display_data"
    },
    {
     "data": {
      "text/plain": [
       "<matplotlib.image.AxesImage at 0x7f5508b13bd0>"
      ]
     },
     "execution_count": 13,
     "metadata": {},
     "output_type": "execute_result"
    }
   ],
   "source": [
    "plt.figure()\n",
    "plt.imshow(labels,cmap=cmap)"
   ]
  },
  {
   "cell_type": "code",
   "execution_count": null,
   "metadata": {},
   "outputs": [],
   "source": []
  }
 ],
 "metadata": {
  "kernelspec": {
   "display_name": "Python 3",
   "language": "python",
   "name": "python3"
  },
  "language_info": {
   "codemirror_mode": {
    "name": "ipython",
    "version": 3
   },
   "file_extension": ".py",
   "mimetype": "text/x-python",
   "name": "python",
   "nbconvert_exporter": "python",
   "pygments_lexer": "ipython3",
   "version": "3.7.7"
  }
 },
 "nbformat": 4,
 "nbformat_minor": 4
}
