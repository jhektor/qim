{
 "cells": [
  {
   "cell_type": "markdown",
   "metadata": {},
   "source": [
    "# Segmentation using the qim.register module\n",
    "*TODO: Figure our how to \"install\" the module so that I don't need to put the github folder in the path.*\n",
    "\n",
    "## Load modules"
   ]
  },
  {
   "cell_type": "code",
   "execution_count": 1,
   "metadata": {},
   "outputs": [],
   "source": [
    "import sys, os\n",
    "#sys.path.insert(0, '/home/hektor/scripts')\n",
    "sys.path.insert(0, '/lunarc/nobackup/projects/qim')\n",
    "\n",
    "import qim.registration as registration\n",
    "import qim.tools as tools\n",
    "import tifffile\n",
    "import numpy as np\n",
    "import matplotlib.pyplot as plt\n",
    "%matplotlib widget\n",
    "\n",
    "from skimage import filters\n"
   ]
  },
  {
   "cell_type": "markdown",
   "metadata": {},
   "source": [
    "## Read data\n",
    "The example data is from a multimodal imaging experiment (x-rays and neutron) at ILL. The sample is a rat bone with an implant. This is part of Elin Törnqvists PhD research."
   ]
  },
  {
   "cell_type": "code",
   "execution_count": 2,
   "metadata": {},
   "outputs": [],
   "source": [
    "qimfolder = '/lunarc/nobackup/projects/qim/QIM_2020_LU_Elin_Bio'\n",
    "datapath = os.path.join(qimfolder,'pvt21/reg-common-peaks_new')\n",
    "x_data = os.path.join(datapath,'x_registered.tiff')\n",
    "n_data = os.path.join(datapath,'n-bin1.tif')\n",
    "\n",
    "x_volume = tifffile.imread(x_data)\n",
    "n_volume = tifffile.imread(n_data)\n"
   ]
  },
  {
   "cell_type": "markdown",
   "metadata": {},
   "source": [
    "## Create the dual histogram\n",
    "\n",
    "This will create a dual (2D) histogram where the intensity of the x-ray data is on the x-axis and the intensity of the neutron data is on the y-axis. The number of bin in the histogram \n",
    "The x-ray data will be on the x-axis and the neutron data on the y-axis. The number of bins will be the same on both axes.\n",
    "\n",
    "*TODO: perhaps it is useful to have different number of bins on the axes*\n"
   ]
  },
  {
   "cell_type": "code",
   "execution_count": 4,
   "metadata": {},
   "outputs": [
    {
     "data": {
      "application/vnd.jupyter.widget-view+json": {
       "model_id": "6c3dfbc65eee4c36a8c4cc83e6efe27f",
       "version_major": 2,
       "version_minor": 0
      },
      "text/plain": [
       "Canvas(toolbar=Toolbar(toolitems=[('Home', 'Reset original view', 'home', 'home'), ('Back', 'Back to previous …"
      ]
     },
     "metadata": {},
     "output_type": "display_data"
    }
   ],
   "source": [
    "nbins = 256\n",
    "H,xedges,yedges = registration.make_dual_histogram(x_volume,n_volume,nbins)\n",
    "\n",
    "registration.plot_dual_histogram(H,xedges,yedges,xlabel='X-ray intensity',ylabel='Neutron intensity',vmax=2500)"
   ]
  },
  {
   "cell_type": "markdown",
   "metadata": {},
   "source": [
    "## Fit Gaussians to the histogram\n",
    "Now we will fit 2D Gaussians to regions of the histogram. There is an automatic peak searching feature (which doesn't work very well). There is also the possibility to provide inital guesses on the position of the Gaussians. This is done by giving a list of coordinates to the keyword argument `marker` of `registration.setup_markers`. The coordinates are specified like this:\n",
    "```\n",
    "ml = [[x-ray 1, neutron 1], [x-ray 2, neutron 2], ..., [x-ray N, neutron N]]\n",
    "```\n",
    "The intensities can be read from the histogram above.\n",
    "\n",
    "The size of the region to fit each Gaussian to can be controlled by the `fitdist` keyword to `registration.fit_gaussians`.\n",
    "\n",
    "*TODO: Improve automatic peak search*\n"
   ]
  },
  {
   "cell_type": "code",
   "execution_count": 5,
   "metadata": {},
   "outputs": [
    {
     "name": "stdout",
     "output_type": "stream",
     "text": [
      "Trying to fit peak at (20863.7, 46207.3)\n",
      "Initial guess: [20863.682 46207.295 100.0 100.0 0.0 1462.000000 0.0]\n",
      "Fitted parameters [19855.249 45649.577 3106.0 2460.2 -1.8 1845.996288 -2.0]\n",
      "Fitted 1 peaks\n",
      "Trying to fit peak at (35199.5, 30079.5)\n",
      "Initial guess: [35199.463 30079.541 100.0 100.0 0.0 3271.000000 0.0]\n",
      "Fitted parameters [36630.630 28768.173 3078.6 2397.3 -0.6 6268.389957 -3.6]\n",
      "Fitted 2 peaks\n",
      "Trying to fit peak at (65407.0, 16255.8)\n",
      "Marker is on an edge\n",
      "Initial guess: [65407.002 16255.752 100.0 100.0 0.0 112817.000000 0.0]\n",
      "Fitted parameters [65452.993 15306.796 60.3 1567.5 0.0 198735.402787 5.4]\n",
      "Fitted 3 peaks\n"
     ]
    },
    {
     "data": {
      "application/vnd.jupyter.widget-view+json": {
       "model_id": "4e93ce53a2b94257a963d2f7f69c9c80",
       "version_major": 2,
       "version_minor": 0
      },
      "text/plain": [
       "Canvas(toolbar=Toolbar(toolitems=[('Home', 'Reset original view', 'home', 'home'), ('Back', 'Back to previous …"
      ]
     },
     "metadata": {},
     "output_type": "display_data"
    }
   ],
   "source": [
    "# generate markers\n",
    "#ml = [[0,2500],[8000,0],[65400,8700]]\n",
    "#ml = [[0,2500],[7175, 3139], [20800, 46000], [25800, 15900], [48000, 28000], [66085, 16200]]#x reg onto n\n",
    "ml = [[20800, 46000], [35000, 30000], [65400, 16200]]#x reg onto n\n",
    "markers = registration.setup_markers(H,xedges,yedges,markers=ml)\n",
    "# Fit a Gaussian to each marker\n",
    "opts = registration.fit_gaussians(H,markers,xedges,yedges,fitdist=20)\n",
    "# Make a plot with markers and Gaussians\n",
    "registration.plot_dual_histogram(H,xedges,yedges,xlabel='X-ray intensity',ylabel='Neutron intensity',vmax=1500,markers=markers,fits=opts)"
   ]
  },
  {
   "cell_type": "markdown",
   "metadata": {},
   "source": [
    "## Build phase diagram\n",
    "We will now do a labelling of the histogram based on the fitted Gaussians. Basically the idea is to assign a number to each of the Gaussians and then color each pixel in the histogram with the number of the closest Gaussian.\n",
    "\n",
    "To find the closest distance we use the [Mahalanobis distance function](https://en.wikipedia.org/wiki/Mahalanobis_distance).\n",
    "\n",
    "We will also try to compute a maximum distance for assigning pixels to phases, such that at least 90% of the parts of the histogram >0 is assigned a label. This step can be skipped using the `sigma` keyword of `registration.phase_diagram`.\n",
    "\n",
    "For the example data we are not interested in the lower left quadrant of the histogram (this contains mostly background and artefacts), we therefore use a low number of `sigma` to limit the size of the phases.\n",
    "\n",
    "*TODO: Check how the distance function works*\n",
    "\n",
    "*TODO: Fix the color mapping*"
   ]
  },
  {
   "cell_type": "code",
   "execution_count": 8,
   "metadata": {},
   "outputs": [
    {
     "data": {
      "application/vnd.jupyter.widget-view+json": {
       "model_id": "c3a6ad3a5d004f6d852e38703ee82bad",
       "version_major": 2,
       "version_minor": 0
      },
      "text/plain": [
       "Canvas(toolbar=Toolbar(toolitems=[('Home', 'Reset original view', 'home', 'home'), ('Back', 'Back to previous …"
      ]
     },
     "metadata": {},
     "output_type": "display_data"
    }
   ],
   "source": [
    "coverage = 0.9\n",
    "phasediagram = registration.phase_diagram(H,xedges,yedges,opts,coverage=coverage,sigma=4)\n",
    "nphases=phasediagram.max()\n",
    "\n",
    "#plot the phasediagram\n",
    "cmap = 'Set3' #vill bara ha x färger\n",
    "Y,X = np.meshgrid(yedges,xedges,indexing='ij') #coordinates in dual histogram\n",
    "fig=plt.figure()\n",
    "m=plt.pcolormesh(X,Y,phasediagram,cmap=cmap)\n",
    "plt.xlabel('X-ray intensity')\n",
    "plt.ylabel('Neutron intensity')\n",
    "cb=fig.colorbar(m,ticks=range(nphases+1))\n",
    "m.set_clim(0.5, nphases + 0.5)\n"
   ]
  },
  {
   "cell_type": "markdown",
   "metadata": {},
   "source": [
    "## Map from the phase diagram to the volume\n",
    "We will now color the volume based on the labels in the phase diagram. If `slicenr = None` the full volume will be colored, otherwise just the one slice corresponding to `slicenr` will be colored. When coloring the full volume you can use multiple processors by giving a number to the `nprocs` keyword of `registration.map_to_volume`. \n",
    "\n",
    "**WARNING: Do not run this with multiple processors on the log-in nodes of Aurora**. \n"
   ]
  },
  {
   "cell_type": "code",
   "execution_count": 9,
   "metadata": {},
   "outputs": [
    {
     "name": "stdout",
     "output_type": "stream",
     "text": [
      "Setting up pool with 20 processors\n",
      "CPU times: user 1.51 s, sys: 3.77 s, total: 5.29 s\n",
      "Wall time: 43.1 s\n"
     ]
    }
   ],
   "source": [
    "%%time\n",
    "slicenr = None\n",
    "labels = registration.map_to_volume(x_volume,n_volume,xedges,yedges,phasediagram,slicenr=slicenr,nprocs=20)"
   ]
  },
  {
   "cell_type": "markdown",
   "metadata": {},
   "source": [
    "## Plot slices of the labelled volume"
   ]
  },
  {
   "cell_type": "code",
   "execution_count": 11,
   "metadata": {},
   "outputs": [
    {
     "data": {
      "application/vnd.jupyter.widget-view+json": {
       "model_id": "bb35af08a744455e85e68063c2714e2a",
       "version_major": 2,
       "version_minor": 0
      },
      "text/plain": [
       "Canvas(toolbar=Toolbar(toolitems=[('Home', 'Reset original view', 'home', 'home'), ('Back', 'Back to previous …"
      ]
     },
     "metadata": {},
     "output_type": "display_data"
    },
    {
     "data": {
      "application/vnd.jupyter.widget-view+json": {
       "model_id": "431a37a7d9d6464fb65907fe68a2a1a2",
       "version_major": 2,
       "version_minor": 0
      },
      "text/plain": [
       "Canvas(toolbar=Toolbar(toolitems=[('Home', 'Reset original view', 'home', 'home'), ('Back', 'Back to previous …"
      ]
     },
     "metadata": {},
     "output_type": "display_data"
    },
    {
     "data": {
      "application/vnd.jupyter.widget-view+json": {
       "model_id": "27834ee41aba4642a749b24f21826123",
       "version_major": 2,
       "version_minor": 0
      },
      "text/plain": [
       "Canvas(toolbar=Toolbar(toolitems=[('Home', 'Reset original view', 'home', 'home'), ('Back', 'Back to previous …"
      ]
     },
     "metadata": {},
     "output_type": "display_data"
    }
   ],
   "source": [
    "if not slicenr:\n",
    "    z,x,y = labels.shape[0]//2, labels.shape[1]//2,labels.shape[2]//2\n",
    "    fig,axes=plt.subplots(1,3,figsize=(12,6))\n",
    "    ax = axes.ravel()\n",
    "    fig.suptitle('Labelled slices')\n",
    "    m=ax[0].imshow(labels[z],cmap=cmap,vmin=1)\n",
    "    ax[1].imshow(labels[:,x,:],cmap=cmap,vmin=1)\n",
    "    ax[2].imshow(labels[:,:,y],cmap=cmap,vmin=1)\n",
    "    cb=fig.colorbar(m,ticks=range(nphases+1))\n",
    "    m.set_clim(0.5, nphases + 0.5)\n",
    "\n",
    "    fig,axes=plt.subplots(1,3,figsize=(12,6))\n",
    "    ax = axes.ravel()\n",
    "    fig.suptitle('X-ray data')\n",
    "    ax[0].imshow(x_volume[z],cmap='Greys_r')\n",
    "    ax[1].imshow(x_volume[:,x,:],cmap='Greys_r')\n",
    "    ax[2].imshow(x_volume[:,:,y],cmap='Greys_r')\n",
    "\n",
    "    fig,axes=plt.subplots(1,3,figsize=(12,6))\n",
    "    ax = axes.ravel()\n",
    "    fig.suptitle('Neutron data')\n",
    "    ax[0].imshow(n_volume[z],cmap='Greys_r')\n",
    "    ax[1].imshow(n_volume[:,x,:],cmap='Greys_r')\n",
    "    ax[2].imshow(n_volume[:,:,y],cmap='Greys_r')\n",
    "else:\n",
    "    fig,axes=plt.subplots(1,3,figsize=(12,6),sharex=True,sharey=True)\n",
    "    ax = axes.ravel()\n",
    "    ax[0].set_title('Labelled slices')\n",
    "    m=ax[0].imshow(labels,cmap=cmap,vmin=1)\n",
    "    cb=fig.colorbar(m,ticks=range(nphases+1))\n",
    "    m.set_clim(0.5, nphases + 0.5)\n",
    "    ax[1].set_title('X-ray data')\n",
    "    ax[1].imshow(x_volume[slicenr],cmap='Greys_r')\n",
    "    ax[2].set_title('Neutron data')\n",
    "    ax[2].imshow(n_volume[slicenr],cmap='Greys_r')\n",
    " "
   ]
  },
  {
   "cell_type": "code",
   "execution_count": null,
   "metadata": {},
   "outputs": [],
   "source": []
  }
 ],
 "metadata": {
  "kernelspec": {
   "display_name": "Python 3",
   "language": "python",
   "name": "python3"
  },
  "language_info": {
   "codemirror_mode": {
    "name": "ipython",
    "version": 3
   },
   "file_extension": ".py",
   "mimetype": "text/x-python",
   "name": "python",
   "nbconvert_exporter": "python",
   "pygments_lexer": "ipython3",
   "version": "3.7.4"
  }
 },
 "nbformat": 4,
 "nbformat_minor": 4
}
